{
 "cells": [
  {
   "cell_type": "code",
   "execution_count": 5,
   "id": "3f269c15-4df1-47d3-ba07-bae989f156b3",
   "metadata": {},
   "outputs": [],
   "source": [
    "import numpy as np\n",
    "from numpy import linalg\n",
    "from math import pi, sin, cos"
   ]
  },
  {
   "cell_type": "code",
   "execution_count": 9,
   "id": "ccf76ac1-efa2-47a6-847a-af5f38d8bcae",
   "metadata": {},
   "outputs": [],
   "source": [
    "cca = (180-109.5)*(pi/180) / 2"
   ]
  },
  {
   "cell_type": "code",
   "execution_count": 31,
   "id": "6fd18380-fb2b-4f78-a427-0181df6f8013",
   "metadata": {},
   "outputs": [],
   "source": [
    "# backbone rotation matrix\n",
    "buffer=np.array([cos(cca), sin(cca), 0, \n",
    "                 -sin(cca), cos(cca), 0,\n",
    "                 0, 0, 1])\n",
    "\n",
    "R = np.ndarray(shape=(3,3), buffer=buffer)\n",
    "\n",
    "\n",
    "#hydrogen mirror matrix\n",
    "buffer=np.array([0, 1, 0,\n",
    "                -1, 0, 0,\n",
    "                0, 0, 1])\n",
    "\n",
    "R90 = np.ndarray(shape=(3,3), buffer=buffer)\n",
    "\n",
    "\n",
    "# hydrogen bond out of plane rotation\n",
    "buffer=np.array([1, 0 , 0, \n",
    "                 0, cos(pi/3), sin(pi/3), \n",
    "                 0, -sin(pi/3), cos(pi/3)])\n",
    "\n",
    "Rh = np.ndarray(shape=(9,1), buffer=buffer)"
   ]
  },
  {
   "cell_type": "code",
   "execution_count": 32,
   "id": "a4c26455-3adc-4b76-9273-e42dad4b851a",
   "metadata": {},
   "outputs": [
    {
     "data": {
      "text/plain": [
       "array([[ 1.       ],\n",
       "       [ 0.       ],\n",
       "       [ 0.       ],\n",
       "       [ 0.       ],\n",
       "       [ 0.5      ],\n",
       "       [ 0.8660254],\n",
       "       [ 0.       ],\n",
       "       [-0.8660254],\n",
       "       [ 0.5      ]])"
      ]
     },
     "execution_count": 32,
     "metadata": {},
     "output_type": "execute_result"
    }
   ],
   "source": [
    "Rh"
   ]
  },
  {
   "cell_type": "code",
   "execution_count": 42,
   "id": "e07ee58f-096f-485f-823d-5ab7d731ffc5",
   "metadata": {},
   "outputs": [],
   "source": [
    "#bond lengths\n",
    "ccl0 = 1.33 #angstroms\n",
    "chl0 = 0.99 #angstroms"
   ]
  },
  {
   "cell_type": "code",
   "execution_count": 43,
   "id": "3adfdf04-1774-47d4-9c4c-9dd1bea2537e",
   "metadata": {},
   "outputs": [],
   "source": [
    "atoms = [] #spatial positions of atoms\n",
    "types = [] #atoms types (C = 1, H = 2)\n",
    "bonds = []\n",
    "angles = []\n",
    "dihedrals = []\n",
    "chainvec = [(1,0,0)]"
   ]
  },
  {
   "cell_type": "code",
   "execution_count": 45,
   "id": "fd1975c5-6df5-4da6-8516-f6c656d142fb",
   "metadata": {},
   "outputs": [],
   "source": [
    "atoms.append((0,0,0))\n",
    "types.append(1)\n",
    "\n",
    "atoms.append((0,chl0*cos(pi/3),chl0*sin(pi/3)))\n",
    "types.append(2)\n",
    "bonds.append((2,1,2))\n",
    "\n",
    "atoms.append((0,chl0*-sin(pi/3),chl0*cos(pi/3)))\n",
    "types.append(2)\n",
    "bonds.append((2,1,3))\n",
    "angles.append((2,1,3))"
   ]
  },
  {
   "cell_type": "code",
   "execution_count": null,
   "id": "2343093d-530d-4120-8313-72083c7e8573",
   "metadata": {},
   "outputs": [],
   "source": []
  }
 ],
 "metadata": {
  "kernelspec": {
   "display_name": "Python 3",
   "language": "python",
   "name": "python3"
  },
  "language_info": {
   "codemirror_mode": {
    "name": "ipython",
    "version": 3
   },
   "file_extension": ".py",
   "mimetype": "text/x-python",
   "name": "python",
   "nbconvert_exporter": "python",
   "pygments_lexer": "ipython3",
   "version": "3.6.9"
  }
 },
 "nbformat": 4,
 "nbformat_minor": 5
}
