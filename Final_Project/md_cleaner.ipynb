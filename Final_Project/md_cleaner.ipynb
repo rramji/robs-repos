{
 "cells": [
  {
   "cell_type": "code",
   "execution_count": 1,
   "id": "fifth-laser",
   "metadata": {},
   "outputs": [],
   "source": [
    "from ase import Atoms\n",
    "import numpy as np"
   ]
  },
  {
   "cell_type": "code",
   "execution_count": null,
   "id": "alpine-example",
   "metadata": {},
   "outputs": [],
   "source": [
    "class simple_md:\n",
    "    \n",
    "    # Input data should be an ASE atoms object for now. \n",
    "    def __init__(self, input_data):\n",
    "        self.system = input_data\n",
    "        self.n_atoms = len(input_data)\n",
    "        self.temperature = 0\n",
    "        self.positions = input_data.get_positions()\n",
    "        self.velocities = input_data.get_velocities()\n",
    "        self.forces = np.zeros.self.positions.shape()\n",
    "        self.masses = input_data.get_masses()\n",
    "        \n",
    "        #initialize velocities\n",
    "        #maxwell-boltzmann standard distribution (from TMP Chem)\n",
    "        sigma_base = np.sqrt(2.0 * 1.98E-3 * temp / 3)\n",
    "        for atom, vel in enumerate(velocities):\n",
    "            sigma = sigma_base * masses[atom]**-0.5\n",
    "            velocities[atom] = np.random.normal(0.0, sigma, 3)\n",
    "\n",
    "        prev_positions = positions - (velocities*timestep)\n",
    "                               \n",
    "        "
   ]
  }
 ],
 "metadata": {
  "kernelspec": {
   "display_name": "Python 3",
   "language": "python",
   "name": "python3"
  },
  "language_info": {
   "codemirror_mode": {
    "name": "ipython",
    "version": 3
   },
   "file_extension": ".py",
   "mimetype": "text/x-python",
   "name": "python",
   "nbconvert_exporter": "python",
   "pygments_lexer": "ipython3",
   "version": "3.7.10"
  }
 },
 "nbformat": 4,
 "nbformat_minor": 5
}
