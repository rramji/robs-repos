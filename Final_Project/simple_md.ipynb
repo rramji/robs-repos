{
 "cells": [
  {
   "cell_type": "code",
   "execution_count": 1,
   "id": "african-drill",
   "metadata": {},
   "outputs": [],
   "source": [
    "from ase import ase, io, neighborlist\n",
    "from functools import partial\n",
    "import numpy as np"
   ]
  },
  {
   "cell_type": "code",
   "execution_count": null,
   "id": "approximate-pricing",
   "metadata": {},
   "outputs": [],
   "source": []
  },
  {
   "cell_type": "code",
   "execution_count": 2,
   "id": "limited-article",
   "metadata": {},
   "outputs": [],
   "source": [
    "def md(timestep, sim_length, data_file, temp, box):\n",
    "    \n",
    "    current_state = init(data_file, timestep)\n",
    "    t = 0\n",
    "    while t < sim_length:\n",
    "        energy, forces = get_ef(current_state, timestep, box)\n",
    "        new_positions = get_new_positions(current_state, timestep)\n",
    "        new_velocities = get_new_velocities(current_state, timestep)\n",
    "        t = t + timestep\n",
    "        out = [current_state, sample(current_state), energies, forces]\n",
    "    \n",
    "    print(\"MD simulation finished\")"
   ]
  },
  {
   "cell_type": "markdown",
   "id": "marked-israeli",
   "metadata": {},
   "source": [
    "### TODO: \n",
    "- write get_positions_from_file function\n",
    "- write get_new_positions function\n",
    "- write get_new_velocities function"
   ]
  },
  {
   "cell_type": "code",
   "execution_count": 3,
   "id": "textile-relationship",
   "metadata": {},
   "outputs": [],
   "source": [
    "#initialize the system with random kinetic energy\n",
    "def init(data_file, temp):\n",
    "    \n",
    "    state = {}\n",
    "    \n",
    "    \n",
    "    # probably need to extract more than positions - masses etc.\n",
    "    data = get_data_from_file(data_file) #need to write this function, maybe return a sim-data class or something\n",
    "    positions = data.positions\n",
    "    n_at = len(positions)\n",
    "    \n",
    "    #initialize velocities\n",
    "    #maxwell-boltzmann standard distribution (from TMP Chem)\n",
    "    sigma = math.sqrt(2.0 * 1.98E-3 * self.temperature / 3)\n",
    "    for atom in data:\n",
    "        \n",
    "    \n",
    "    velocities = np.random.normal(0.0, sigma, 3)\n",
    "    \n",
    "    sumv = velocities.sum() / n_at\n",
    "    sumv2 = sumv**2 / n_at\n",
    "    fs = np.sqrt(3*temp/sumv2)\n",
    "    velocities = (velocities - sumv)*fs\n",
    "    prev_positions = positions - (velocities*timestep)\n",
    "    \n",
    "    state['positions'] = positions\n",
    "    state['velocities'] = velocities\n",
    "    state['prev_positions'] = prev_positions\n",
    "    state['n'] = n_at\n",
    "    \n",
    "    return state"
   ]
  },
  {
   "cell_type": "code",
   "execution_count": 4,
   "id": "emotional-acrobat",
   "metadata": {},
   "outputs": [],
   "source": [
    "def get_radius_pbc(atom_1, atom_2, L):\n",
    "    x = atom_1[0] - atom_2[0]\n",
    "    y = atom_1[1] - atom_2[1]\n",
    "    z = atom_1[2] - atom_2[2]\n",
    "    x_min = x - L*round(x/L)\n",
    "    y_min = y - L*round (y/L)\n",
    "    z_min = z - L*round(z/L)\n",
    "    return np.sqrt(x_min**2 + y_min**2 + z_min**2)"
   ]
  },
  {
   "cell_type": "code",
   "execution_count": 5,
   "id": "eleven-navigation",
   "metadata": {},
   "outputs": [],
   "source": [
    "def get_ef(state, temp, box):\n",
    "    energy = 0\n",
    "    rc = box/2\n",
    "    ecut =  4*(rc**-12 - rc**-6)\n",
    "    n_at = state['n']\n",
    "    forces = np.zeros(n_at)\n",
    "    for i in range(n_at-1):\n",
    "        for j in range(i+1,n_at):\n",
    "            r = get_radius_pbc(state['positions'][i],state['positions'][j],box)\n",
    "            if r < rc:\n",
    "                r2i = 1 / (r**2)\n",
    "                r6i = r2i ** 3 \n",
    "                ff = (48 * r2i) * (r6i * (r6i - 0.5))\n",
    "                f[i] += ff*r\n",
    "                f[j] += -ff*r\n",
    "                energy += 4*r6i*(r6i-1)-ecut\n",
    "    \n",
    "    return (energy, forces)"
   ]
  },
  {
   "cell_type": "code",
   "execution_count": 38,
   "id": "functioning-confirmation",
   "metadata": {},
   "outputs": [
    {
     "data": {
      "text/plain": [
       "\u001b[0;31mDocstring:\u001b[0m\n",
       "zeros(shape, dtype=float, order='C')\n",
       "\n",
       "Return a new array of given shape and type, filled with zeros.\n",
       "\n",
       "Parameters\n",
       "----------\n",
       "shape : int or tuple of ints\n",
       "    Shape of the new array, e.g., ``(2, 3)`` or ``2``.\n",
       "dtype : data-type, optional\n",
       "    The desired data-type for the array, e.g., `numpy.int8`.  Default is\n",
       "    `numpy.float64`.\n",
       "order : {'C', 'F'}, optional, default: 'C'\n",
       "    Whether to store multi-dimensional data in row-major\n",
       "    (C-style) or column-major (Fortran-style) order in\n",
       "    memory.\n",
       "\n",
       "Returns\n",
       "-------\n",
       "out : ndarray\n",
       "    Array of zeros with the given shape, dtype, and order.\n",
       "\n",
       "See Also\n",
       "--------\n",
       "zeros_like : Return an array of zeros with shape and type of input.\n",
       "empty : Return a new uninitialized array.\n",
       "ones : Return a new array setting values to one.\n",
       "full : Return a new array of given shape filled with value.\n",
       "\n",
       "Examples\n",
       "--------\n",
       ">>> np.zeros(5)\n",
       "array([ 0.,  0.,  0.,  0.,  0.])\n",
       "\n",
       ">>> np.zeros((5,), dtype=int)\n",
       "array([0, 0, 0, 0, 0])\n",
       "\n",
       ">>> np.zeros((2, 1))\n",
       "array([[ 0.],\n",
       "       [ 0.]])\n",
       "\n",
       ">>> s = (2,2)\n",
       ">>> np.zeros(s)\n",
       "array([[ 0.,  0.],\n",
       "       [ 0.,  0.]])\n",
       "\n",
       ">>> np.zeros((2,), dtype=[('x', 'i4'), ('y', 'i4')]) # custom dtype\n",
       "array([(0, 0), (0, 0)],\n",
       "      dtype=[('x', '<i4'), ('y', '<i4')])\n",
       "\u001b[0;31mType:\u001b[0m      builtin_function_or_method\n"
      ]
     },
     "metadata": {},
     "output_type": "display_data"
    }
   ],
   "source": [
    "def verlet()"
   ]
  },
  {
   "cell_type": "code",
   "execution_count": 41,
   "id": "neither-california",
   "metadata": {},
   "outputs": [],
   "source": [
    "xi = (3, 3, 3)\n",
    "xj = (5, 5, 5)\n",
    "\n",
    "rij = np.subtract(xi,xj)"
   ]
  },
  {
   "cell_type": "code",
   "execution_count": 42,
   "id": "going-stockholm",
   "metadata": {},
   "outputs": [
    {
     "data": {
      "text/plain": [
       "array([-2, -2, -2])"
      ]
     },
     "execution_count": 42,
     "metadata": {},
     "output_type": "execute_result"
    }
   ],
   "source": [
    "rij"
   ]
  },
  {
   "cell_type": "code",
   "execution_count": null,
   "id": "corporate-brain",
   "metadata": {},
   "outputs": [],
   "source": []
  }
 ],
 "metadata": {
  "kernelspec": {
   "display_name": "Python 3",
   "language": "python",
   "name": "python3"
  },
  "language_info": {
   "codemirror_mode": {
    "name": "ipython",
    "version": 3
   },
   "file_extension": ".py",
   "mimetype": "text/x-python",
   "name": "python",
   "nbconvert_exporter": "python",
   "pygments_lexer": "ipython3",
   "version": "3.6.9"
  }
 },
 "nbformat": 4,
 "nbformat_minor": 5
}
