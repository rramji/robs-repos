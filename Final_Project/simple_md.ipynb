{
 "cells": [
  {
   "cell_type": "code",
   "execution_count": 30,
   "id": "satisfactory-tunisia",
   "metadata": {},
   "outputs": [],
   "source": [
    "from ase import ase, io, neighborlist\n",
    "from ase.calculators.amber import Amber\n",
    "import numpy as np"
   ]
  },
  {
   "cell_type": "code",
   "execution_count": 31,
   "id": "proud-silence",
   "metadata": {},
   "outputs": [],
   "source": [
    "from ase import Atoms\n",
    "d = 1.05\n",
    "co = Atoms('CO', positions=[(d, d, d), (0, 0, 0)], pbc=True)\n",
    "\n",
    "md_system = {'atoms': co, 'forces': np.zeros(co.get_velocities().shape), 'bonds': [(0,1)]}"
   ]
  },
  {
   "cell_type": "code",
   "execution_count": 32,
   "id": "hollow-radar",
   "metadata": {},
   "outputs": [],
   "source": [
    "# need a way to calculate charges..."
   ]
  },
  {
   "cell_type": "code",
   "execution_count": 33,
   "id": "hungry-cinema",
   "metadata": {},
   "outputs": [
    {
     "data": {
      "text/plain": [
       "array([6, 8])"
      ]
     },
     "execution_count": 33,
     "metadata": {},
     "output_type": "execute_result"
    }
   ],
   "source": [
    "co.get_atomic_numbers()"
   ]
  },
  {
   "cell_type": "code",
   "execution_count": 62,
   "id": "determined-playback",
   "metadata": {},
   "outputs": [],
   "source": [
    "def md(timestep, sim_length, data_file, temp, box):\n",
    "    \n",
    "    initial_md_system = {'atoms': co}\n",
    "    current_state = init(initial_md_system, temp, timestep)\n",
    "    t = 0\n",
    "    n = 0\n",
    "    out = []\n",
    "    while t < sim_length:\n",
    "        if n % 500 == 0:\n",
    "            out.append(current_state['positions'])\n",
    "        energy, forces = get_ef(current_state, timestep, box)\n",
    "        new_state = verlet(current_state, timestep, forces, energy)\n",
    "        t = t + timestep\n",
    "        n+=1\n",
    "    \n",
    "    print(\"MD simulation finished\")\n",
    "    return out"
   ]
  },
  {
   "cell_type": "code",
   "execution_count": 35,
   "id": "prerequisite-equation",
   "metadata": {},
   "outputs": [
    {
     "data": {
      "text/plain": [
       "{'numbers': array([6, 8]), 'positions': array([[1.05, 1.05, 1.05],\n",
       "        [0.  , 0.  , 0.  ]])}"
      ]
     },
     "execution_count": 35,
     "metadata": {},
     "output_type": "execute_result"
    }
   ],
   "source": [
    "co.arrays"
   ]
  },
  {
   "cell_type": "markdown",
   "id": "tribal-understanding",
   "metadata": {},
   "source": [
    "### TODO: \n",
    "- write get_positions_from_file function\n",
    "- write get_new_positions function\n",
    "- write get_new_velocities function"
   ]
  },
  {
   "cell_type": "code",
   "execution_count": 36,
   "id": "placed-window",
   "metadata": {},
   "outputs": [],
   "source": [
    "cutoff = neighborlist.natural_cutoffs(co)\n",
    "nl = neighborlist.NeighborList(cutoff, self_interaction=False, bothways=True)\n",
    "nl.update(co)\n",
    "matrix = nl.get_connectivity_matrix()\n",
    "\n",
    "atoms = {}\n",
    "for i, atom in enumerate(co):\n",
    "    atoms[atom] = {\n",
    "        'position': co.get_positions()[i],\n",
    "        'velocity': co.get_velocities()[i],\n",
    "        'mass': co.get_masses()[i],\n",
    "        #'charge': co.get_charges()[i],\n",
    "        'force': [0, 0, 0],\n",
    "        'bonds': []\n",
    "    }"
   ]
  },
  {
   "cell_type": "code",
   "execution_count": 37,
   "id": "binding-fluid",
   "metadata": {},
   "outputs": [
    {
     "name": "stdout",
     "output_type": "stream",
     "text": [
      "(0, Atom('C', [1.05, 1.05, 1.05], index=0))\n",
      "(1, Atom('O', [0.0, 0.0, 0.0], index=1))\n"
     ]
    }
   ],
   "source": [
    "for i in enumerate(co):\n",
    "    print(i)"
   ]
  },
  {
   "cell_type": "code",
   "execution_count": 38,
   "id": "billion-subscription",
   "metadata": {},
   "outputs": [],
   "source": [
    "md_system = {'atoms': co, 'forces': np.zeros(co.get_velocities().shape), 'bonds': [(0,1)]}"
   ]
  },
  {
   "cell_type": "code",
   "execution_count": 39,
   "id": "massive-fusion",
   "metadata": {},
   "outputs": [],
   "source": [
    "#initialize the system with random kinetic energy\n",
    "def init(initial_md_system, temp, timestep):\n",
    "    \n",
    "    positions = initial_md_system['atoms'].get_positions()\n",
    "    velocities = initial_md_system['atoms'].get_velocities()\n",
    "    masses = initial_md_system['atoms'].get_masses()\n",
    "    n_at = len(positions)\n",
    "    \n",
    "    #initialize velocities\n",
    "    #maxwell-boltzmann standard distribution (from TMP Chem)\n",
    "    sigma_base = np.sqrt(2.0 * 1.98E-3 * temp / 3)\n",
    "    for atom, vel in enumerate(velocities):\n",
    "        sigma = sigma_base * masses[atom]**-0.5\n",
    "        velocities = np.random.normal(0.0, sigma, 3)\n",
    "    \n",
    "    prev_positions = positions - (velocities*timestep)\n",
    "    \n",
    "    state = {}\n",
    "    state['masses'] = masses\n",
    "    state['positions'] = positions\n",
    "    state['velocities'] = velocities\n",
    "    state['prev_positions'] = prev_positions\n",
    "    state['n_at'] = n_at\n",
    "    \n",
    "    return state"
   ]
  },
  {
   "cell_type": "code",
   "execution_count": 40,
   "id": "fabulous-center",
   "metadata": {},
   "outputs": [],
   "source": [
    "def get_radius_pbc(atom_1, atom_2, L):\n",
    "    r = np.subtract(atom_1, atom_2)\n",
    "    r_nearest = [a - L*round(a/L) for a in r]\n",
    "    return (np.sqrt(np.square(r_nearest).sum()), r_nearest)"
   ]
  },
  {
   "cell_type": "code",
   "execution_count": 41,
   "id": "optimum-lightning",
   "metadata": {},
   "outputs": [],
   "source": [
    "def get_ef(state, temp, box):\n",
    "    energy = 0\n",
    "    rc = box/2\n",
    "    ecut =  4*(rc**-12 - rc**-6)\n",
    "    n_at = state['n_at']\n",
    "    forces = np.zeros((n_at,3))\n",
    "    for i in range(n_at-1):\n",
    "        for j in range(i+1,n_at):\n",
    "            r, components = get_radius_pbc(state['positions'][i],state['positions'][j],box)\n",
    "            if r < rc:\n",
    "                idx = 0\n",
    "                for comp in components:\n",
    "                    if comp!=0:\n",
    "                        r2i = 1 / (comp**2)\n",
    "                        r6i = r2i ** 3 \n",
    "                        ff = (48 * r2i) * (r6i * (r6i - 0.5))\n",
    "                        forces[i][idx] += ff*comp\n",
    "                        forces[j][idx] += -ff*comp\n",
    "                        energy += 4*r6i*(r6i-1)-ecut\n",
    "                    idx += 1\n",
    "    \n",
    "    return (energy, forces)"
   ]
  },
  {
   "cell_type": "code",
   "execution_count": 42,
   "id": "judicial-belarus",
   "metadata": {},
   "outputs": [],
   "source": [
    "def verlet(state, timestep, forces, energy):\n",
    "    new_positions = 2*state['positions'] - state['prev_positions']\n",
    "    \n",
    "    for idx, position in enumerate(new_positions):\n",
    "        position += (forces[idx] * timestep**2) / (2*state['masses'][idx])\n",
    "        \n",
    "    new_velocities = (new_positions - state['prev_positions']) / (2*timestep)\n",
    "    \n",
    "    v2sum = np.square(new_velocities).sum()\n",
    "    calculated_temp = v2sum/(3*state['n_at'])\n",
    "    etot = (energy+0.5*v2sum)/state['n_at']\n",
    "    \n",
    "    state['prev_positions'] = state['positions']\n",
    "    state['positions'] = new_positions\n",
    "    state['velocities'] = new_velocities\n",
    "    \n",
    "    return state"
   ]
  },
  {
   "cell_type": "code",
   "execution_count": null,
   "id": "valid-freight",
   "metadata": {},
   "outputs": [],
   "source": []
  },
  {
   "cell_type": "markdown",
   "id": "exciting-night",
   "metadata": {},
   "source": [
    "## Testing zone"
   ]
  },
  {
   "cell_type": "code",
   "execution_count": 15,
   "id": "dental-difficulty",
   "metadata": {},
   "outputs": [
    {
     "name": "stdout",
     "output_type": "stream",
     "text": [
      "-2.2725356923568185\n",
      "[[ 8.39907291  8.39907291  8.39907291]\n",
      " [-8.39907291 -8.39907291 -8.39907291]]\n"
     ]
    }
   ],
   "source": [
    "timestep = 2E-5\n",
    "temp = 300\n",
    "box = 50\n",
    "state = init(md_system, temp, timestep)\n",
    "e, f = get_ef(state, temp, box)\n",
    "print(e, f, sep='\\n')"
   ]
  },
  {
   "cell_type": "code",
   "execution_count": 16,
   "id": "verified-brazil",
   "metadata": {},
   "outputs": [
    {
     "data": {
      "text/plain": [
       "array([[1.05, 1.05, 1.05],\n",
       "       [0.  , 0.  , 0.  ]])"
      ]
     },
     "execution_count": 16,
     "metadata": {},
     "output_type": "execute_result"
    }
   ],
   "source": [
    "state['positions']"
   ]
  },
  {
   "cell_type": "code",
   "execution_count": 17,
   "id": "broke-interaction",
   "metadata": {},
   "outputs": [
    {
     "name": "stdout",
     "output_type": "stream",
     "text": [
      "Current temperature: 0.00889440009723635\n",
      "Current total energy: -1.1229262460325546\n"
     ]
    },
    {
     "data": {
      "text/plain": [
       "{'masses': array([12.011, 15.999]),\n",
       " 'positions': array([[ 1.05000225e+00,  1.05000235e+00,  1.04999968e+00],\n",
       "        [ 2.25094337e-06,  2.34560581e-06, -3.22017516e-07]]),\n",
       " 'velocities': array([[ 0.11255591,  0.11728904, -0.01609213],\n",
       "        [ 0.11254979,  0.11728292, -0.01609825]]),\n",
       " 'prev_positions': array([[1.05, 1.05, 1.05],\n",
       "        [0.  , 0.  , 0.  ]]),\n",
       " 'n_at': 2}"
      ]
     },
     "execution_count": 17,
     "metadata": {},
     "output_type": "execute_result"
    }
   ],
   "source": [
    "verlet(state, timestep, f, e)"
   ]
  },
  {
   "cell_type": "code",
   "execution_count": 18,
   "id": "least-simpson",
   "metadata": {},
   "outputs": [
    {
     "data": {
      "text/plain": [
       "array([[ 1.05000225e+00,  1.05000235e+00,  1.04999968e+00],\n",
       "       [ 2.25094337e-06,  2.34560581e-06, -3.22017516e-07]])"
      ]
     },
     "execution_count": 18,
     "metadata": {},
     "output_type": "execute_result"
    }
   ],
   "source": [
    "state['positions']"
   ]
  },
  {
   "cell_type": "code",
   "execution_count": 19,
   "id": "vital-hungary",
   "metadata": {},
   "outputs": [
    {
     "name": "stdout",
     "output_type": "stream",
     "text": [
      "[-2, -4, 4] [-2 -4 -6]\n",
      "\n",
      " 36\n",
      "\n",
      " (6.0, [-2, -4, 4])\n"
     ]
    }
   ],
   "source": [
    "xi = (3, 1, 3)\n",
    "xj = (5, 5, 9)\n",
    "L=10\n",
    "\n",
    "r = np.subtract(xi,xj)\n",
    "rl = [a - L*round(a/L) for a in r]\n",
    "print(rl, r)\n",
    "print('\\n',np.square(rl).sum())\n",
    "\n",
    "print('\\n', get_radius_pbc(xi,xj,10))"
   ]
  },
  {
   "cell_type": "code",
   "execution_count": 20,
   "id": "higher-laundry",
   "metadata": {},
   "outputs": [
    {
     "data": {
      "text/plain": [
       "array([12.011, 15.999])"
      ]
     },
     "execution_count": 20,
     "metadata": {},
     "output_type": "execute_result"
    }
   ],
   "source": [
    "co.get_masses()"
   ]
  },
  {
   "cell_type": "code",
   "execution_count": 21,
   "id": "distinct-farming",
   "metadata": {},
   "outputs": [],
   "source": [
    "d = 1.122\n",
    "co = Atoms('CO', positions=[(d, d, d), (0, 0, 0)], pbc=True)\n",
    "\n",
    "md_system = {'atoms': co, 'forces': np.zeros(co.get_velocities().shape), 'bonds': [(0,1)]}"
   ]
  },
  {
   "cell_type": "code",
   "execution_count": null,
   "id": "illegal-armstrong",
   "metadata": {},
   "outputs": [],
   "source": []
  },
  {
   "cell_type": "code",
   "execution_count": 22,
   "id": "loving-variance",
   "metadata": {},
   "outputs": [
    {
     "data": {
      "text/plain": [
       "{'masses': array([12.011, 15.999]),\n",
       " 'positions': array([[ 1.05000225e+00,  1.05000235e+00,  1.04999968e+00],\n",
       "        [ 2.25094337e-06,  2.34560581e-06, -3.22017516e-07]]),\n",
       " 'velocities': array([[ 0.11255591,  0.11728904, -0.01609213],\n",
       "        [ 0.11254979,  0.11728292, -0.01609825]]),\n",
       " 'prev_positions': array([[1.05, 1.05, 1.05],\n",
       "        [0.  , 0.  , 0.  ]]),\n",
       " 'n_at': 2}"
      ]
     },
     "execution_count": 22,
     "metadata": {},
     "output_type": "execute_result"
    }
   ],
   "source": [
    "state"
   ]
  },
  {
   "cell_type": "code",
   "execution_count": 23,
   "id": "permanent-darwin",
   "metadata": {},
   "outputs": [
    {
     "data": {
      "text/plain": [
       "array([[ 8.39907291,  8.39907291,  8.39907291],\n",
       "       [-8.39907291, -8.39907291, -8.39907291]])"
      ]
     },
     "execution_count": 23,
     "metadata": {},
     "output_type": "execute_result"
    }
   ],
   "source": [
    "f"
   ]
  },
  {
   "cell_type": "code",
   "execution_count": 25,
   "id": "black-switzerland",
   "metadata": {},
   "outputs": [
    {
     "data": {
      "text/plain": [
       "0"
      ]
     },
     "execution_count": 25,
     "metadata": {},
     "output_type": "execute_result"
    }
   ],
   "source": [
    "0%5"
   ]
  },
  {
   "cell_type": "code",
   "execution_count": 67,
   "id": "transsexual-startup",
   "metadata": {},
   "outputs": [
    {
     "name": "stdout",
     "output_type": "stream",
     "text": [
      "CPU times: user 3 µs, sys: 0 ns, total: 3 µs\n",
      "Wall time: 5.48 µs\n",
      "MD simulation finished\n"
     ]
    }
   ],
   "source": [
    "%time\n",
    "position_sample = md(timestep=2E-5,sim_length=10,data_file=co,temp=300,box=50)"
   ]
  },
  {
   "cell_type": "code",
   "execution_count": 68,
   "id": "white-discrimination",
   "metadata": {},
   "outputs": [],
   "source": [
    "distance_sample = [get_radius_pbc(i[0], i[1],50)[0] for i in position_sample]"
   ]
  },
  {
   "cell_type": "code",
   "execution_count": 71,
   "id": "loved-pledge",
   "metadata": {},
   "outputs": [
    {
     "data": {
      "text/plain": [
       "[<matplotlib.lines.Line2D at 0x7fbc1ad46250>]"
      ]
     },
     "execution_count": 71,
     "metadata": {},
     "output_type": "execute_result"
    },
    {
     "data": {
      "image/png": "[encoded data removed]",
      "text/plain": [
       "<Figure size 432x288 with 1 Axes>"
      ]
     },
     "metadata": {
      "needs_background": "light"
     },
     "output_type": "display_data"
    }
   ],
   "source": [
    "from matplotlib import pyplot as plt\n",
    "plt.plot(range(0,1001), distance_sample)"
   ]
  },
  {
   "cell_type": "code",
   "execution_count": 65,
   "id": "convertible-westminster",
   "metadata": {},
   "outputs": [
    {
     "data": {
      "text/plain": [
       "500"
      ]
     },
     "execution_count": 65,
     "metadata": {},
     "output_type": "execute_result"
    }
   ],
   "source": [
    "len(distance_sample)"
   ]
  },
  {
   "cell_type": "code",
   "execution_count": 61,
   "id": "hydraulic-occurrence",
   "metadata": {},
   "outputs": [
    {
     "data": {
      "text/plain": [
       "249999.99999999997"
      ]
     },
     "execution_count": 61,
     "metadata": {},
     "output_type": "execute_result"
    }
   ],
   "source": [
    "5/2E-5"
   ]
  },
  {
   "cell_type": "code",
   "execution_count": null,
   "id": "contrary-maintenance",
   "metadata": {},
   "outputs": [],
   "source": []
  }
 ],
 "metadata": {
  "kernelspec": {
   "display_name": "Python 3",
   "language": "python",
   "name": "python3"
  },
  "language_info": {
   "codemirror_mode": {
    "name": "ipython",
    "version": 3
   },
   "file_extension": ".py",
   "mimetype": "text/x-python",
   "name": "python",
   "nbconvert_exporter": "python",
   "pygments_lexer": "ipython3",
   "version": "3.7.10"
  }
 },
 "nbformat": 4,
 "nbformat_minor": 5
}
