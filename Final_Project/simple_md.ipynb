{
 "cells": [
  {
   "cell_type": "code",
   "execution_count": 1,
   "id": "limiting-moore",
   "metadata": {},
   "outputs": [],
   "source": [
    "from ase import ase, io, neighborlist\n",
    "from ase.calculators.amber import Amber\n",
    "import numpy as np"
   ]
  },
  {
   "cell_type": "code",
   "execution_count": 2,
   "id": "driven-intervention",
   "metadata": {},
   "outputs": [],
   "source": [
    "from ase import Atoms\n",
    "d = 1.05\n",
    "co = Atoms('CO', positions=[(d, d, d), (0, 0, 0)], pbc=True)\n",
    "\n",
    "md_system = {'atoms': co, 'forces': np.zeros(co.get_velocities().shape), 'bonds': [(0,1)]}"
   ]
  },
  {
   "cell_type": "code",
   "execution_count": 3,
   "id": "settled-beach",
   "metadata": {},
   "outputs": [],
   "source": [
    "# need a way to calculate charges..."
   ]
  },
  {
   "cell_type": "code",
   "execution_count": 4,
   "id": "running-karen",
   "metadata": {},
   "outputs": [
    {
     "data": {
      "text/plain": [
       "array([[0., 0., 0.],\n",
       "       [0., 0., 0.]])"
      ]
     },
     "execution_count": 4,
     "metadata": {},
     "output_type": "execute_result"
    }
   ],
   "source": [
    "np.zeros(co.get_positions().shape)"
   ]
  },
  {
   "cell_type": "code",
   "execution_count": 5,
   "id": "prime-grace",
   "metadata": {},
   "outputs": [],
   "source": [
    "def md(timestep, sim_length, data_file, temp, box):\n",
    "    \n",
    "    initial_md_system = {'atoms': co}\n",
    "    current_state = init(initial_md_system, temp, timestep)\n",
    "    t = 0\n",
    "    n = 0\n",
    "    out = []\n",
    "    while t < sim_length:\n",
    "        if n % 500 == 0:\n",
    "            out.append(current_state['positions'])\n",
    "        energy, forces = get_ef(current_state, timestep, box)\n",
    "        new_state = verlet(current_state, timestep, forces, energy)\n",
    "        t = t + timestep\n",
    "        n+=1\n",
    "    \n",
    "    print(\"MD simulation finished\")\n",
    "    return out"
   ]
  },
  {
   "cell_type": "code",
   "execution_count": 6,
   "id": "listed-attendance",
   "metadata": {},
   "outputs": [
    {
     "data": {
      "text/plain": [
       "{'numbers': array([6, 8]), 'positions': array([[1.05, 1.05, 1.05],\n",
       "        [0.  , 0.  , 0.  ]])}"
      ]
     },
     "execution_count": 6,
     "metadata": {},
     "output_type": "execute_result"
    }
   ],
   "source": [
    "co.arrays"
   ]
  },
  {
   "cell_type": "markdown",
   "id": "devoted-rotation",
   "metadata": {},
   "source": [
    "### TODO: \n",
    "- write get_positions_from_file function\n",
    "- write get_new_positions function\n",
    "- write get_new_velocities function"
   ]
  },
  {
   "cell_type": "code",
   "execution_count": 7,
   "id": "funded-hours",
   "metadata": {},
   "outputs": [],
   "source": [
    "cutoff = neighborlist.natural_cutoffs(co)\n",
    "nl = neighborlist.NeighborList(cutoff, self_interaction=False, bothways=True)\n",
    "nl.update(co)\n",
    "matrix = nl.get_connectivity_matrix()\n",
    "\n",
    "atoms = {}\n",
    "for i, atom in enumerate(co):\n",
    "    atoms[atom] = {\n",
    "        'position': co.get_positions()[i],\n",
    "        'velocity': co.get_velocities()[i],\n",
    "        'mass': co.get_masses()[i],\n",
    "        #'charge': co.get_charges()[i],\n",
    "        'force': [0, 0, 0],\n",
    "        'bonds': []\n",
    "    }"
   ]
  },
  {
   "cell_type": "code",
   "execution_count": 8,
   "id": "expensive-structure",
   "metadata": {},
   "outputs": [
    {
     "name": "stdout",
     "output_type": "stream",
     "text": [
      "(0, Atom('C', [1.05, 1.05, 1.05], index=0))\n",
      "(1, Atom('O', [0.0, 0.0, 0.0], index=1))\n"
     ]
    }
   ],
   "source": [
    "for i in enumerate(co):\n",
    "    print(i)"
   ]
  },
  {
   "cell_type": "code",
   "execution_count": 9,
   "id": "bottom-surrey",
   "metadata": {},
   "outputs": [],
   "source": [
    "md_system = {'atoms': co, 'forces': np.zeros(co.get_velocities().shape), 'bonds': [(0,1)]}"
   ]
  },
  {
   "cell_type": "code",
   "execution_count": 10,
   "id": "under-publisher",
   "metadata": {},
   "outputs": [],
   "source": [
    "#initialize the system with random kinetic energy\n",
    "def init(initial_md_system, temp, timestep):\n",
    "    \n",
    "    positions = initial_md_system['atoms'].get_positions()\n",
    "    velocities = initial_md_system['atoms'].get_velocities()\n",
    "    masses = initial_md_system['atoms'].get_masses()\n",
    "    n_at = len(positions)\n",
    "    \n",
    "    #initialize velocities\n",
    "    #maxwell-boltzmann standard distribution (from TMP Chem)\n",
    "    sigma_base = np.sqrt(2.0 * 1.98E-3 * temp / 3)\n",
    "    for atom, vel in enumerate(velocities):\n",
    "        sigma = sigma_base * masses[atom]**-0.5\n",
    "        velocities[atom] = np.random.normal(0.0, sigma, 3)\n",
    "    \n",
    "    prev_positions = positions - (velocities*timestep)\n",
    "    \n",
    "    state = {}\n",
    "    state['masses'] = masses\n",
    "    state['positions'] = positions\n",
    "    state['velocities'] = velocities\n",
    "    state['prev_positions'] = prev_positions\n",
    "    state['n_at'] = n_at\n",
    "    \n",
    "    return state"
   ]
  },
  {
   "cell_type": "code",
   "execution_count": 11,
   "id": "mighty-lover",
   "metadata": {},
   "outputs": [],
   "source": [
    "def get_radius_pbc(atom_1, atom_2, L):\n",
    "    r = np.subtract(atom_1, atom_2)\n",
    "    r_nearest = [a - L*round(a/L) for a in r]\n",
    "    return (np.sqrt(np.square(r_nearest).sum()), r_nearest)"
   ]
  },
  {
   "cell_type": "markdown",
   "id": "uniform-position",
   "metadata": {},
   "source": [
    "$f_{x}(r) = \\frac{48x}{r^{2}}(\\frac{1}{r^{12}} - 0.5\\frac{1}{r^{6}})$"
   ]
  },
  {
   "cell_type": "code",
   "execution_count": 12,
   "id": "optional-india",
   "metadata": {},
   "outputs": [],
   "source": [
    "def get_ef(state, temp, box):\n",
    "    energy = 0\n",
    "    rc = box/2\n",
    "    ecut =  4*(rc**-12 - rc**-6)\n",
    "    n_at = state['n_at']\n",
    "    forces = np.zeros((n_at,3))\n",
    "    for i in range(n_at-1):\n",
    "        for j in range(i+1,n_at):\n",
    "            r, components = get_radius_pbc(state['positions'][i],state['positions'][j],box)\n",
    "            if r < rc:\n",
    "                idx = 0\n",
    "                for comp in components:\n",
    "                    if comp!=0:\n",
    "                        r2i = 1 / (comp**2)\n",
    "                        r6i = r2i ** 3 \n",
    "                        ff = (48 * r2i) * (r6i * (r6i - 0.5))\n",
    "                        forces[i][idx] += ff*comp\n",
    "                        forces[j][idx] += -ff*comp\n",
    "                        energy += 4*r6i*(r6i-1)-ecut\n",
    "                    idx += 1\n",
    "    \n",
    "    return (energy, forces)"
   ]
  },
  {
   "cell_type": "code",
   "execution_count": 13,
   "id": "equipped-emperor",
   "metadata": {},
   "outputs": [],
   "source": [
    "def verlet(state, timestep, forces, energy):\n",
    "    new_positions = 2*state['positions'] - state['prev_positions']\n",
    "    \n",
    "    for idx, position in enumerate(new_positions):\n",
    "        position += (forces[idx] * timestep**2) / (2*state['masses'][idx])\n",
    "        \n",
    "    new_velocities = (new_positions - state['prev_positions']) / (2*timestep)\n",
    "    \n",
    "    v2sum = np.square(new_velocities).sum()\n",
    "    calculated_temp = v2sum/(3*state['n_at'])\n",
    "    etot = (energy+0.5*v2sum)/state['n_at']\n",
    "    \n",
    "    state['prev_positions'] = state['positions']\n",
    "    state['positions'] = new_positions\n",
    "    state['velocities'] = new_velocities\n",
    "    \n",
    "    return state"
   ]
  },
  {
   "cell_type": "code",
   "execution_count": null,
   "id": "finished-disability",
   "metadata": {},
   "outputs": [],
   "source": []
  },
  {
   "cell_type": "markdown",
   "id": "talented-screen",
   "metadata": {},
   "source": [
    "## Testing zone"
   ]
  },
  {
   "cell_type": "code",
   "execution_count": 14,
   "id": "middle-implementation",
   "metadata": {},
   "outputs": [
    {
     "name": "stdout",
     "output_type": "stream",
     "text": [
      "-2.2725356923568185\n",
      "[[ 8.39907291  8.39907291  8.39907291]\n",
      " [-8.39907291 -8.39907291 -8.39907291]]\n"
     ]
    }
   ],
   "source": [
    "timestep = 2E-5\n",
    "temp = 300\n",
    "box = 50\n",
    "state = init(md_system, temp, timestep)\n",
    "e, f = get_ef(state, temp, box)\n",
    "print(e, f, sep='\\n')"
   ]
  },
  {
   "cell_type": "code",
   "execution_count": 15,
   "id": "perceived-effects",
   "metadata": {},
   "outputs": [
    {
     "data": {
      "text/plain": [
       "array([[ 0.08275323, -0.03555268,  0.16709585],\n",
       "       [-0.3908391 , -0.31073011,  0.08145147]])"
      ]
     },
     "execution_count": 15,
     "metadata": {},
     "output_type": "execute_result"
    }
   ],
   "source": [
    "state['velocities']"
   ]
  },
  {
   "cell_type": "code",
   "execution_count": 16,
   "id": "junior-dispatch",
   "metadata": {},
   "outputs": [
    {
     "data": {
      "text/plain": [
       "{'masses': array([12.011, 15.999]),\n",
       " 'positions': array([[ 1.05000166e+00,  1.04999929e+00,  1.05000334e+00],\n",
       "        [-7.81688690e-06, -6.21470710e-06,  1.62892439e-06]]),\n",
       " 'velocities': array([[ 0.08275672, -0.03554918,  0.16709935],\n",
       "        [-0.39084172, -0.31073273,  0.08144884]]),\n",
       " 'prev_positions': array([[1.05, 1.05, 1.05],\n",
       "        [0.  , 0.  , 0.  ]]),\n",
       " 'n_at': 2}"
      ]
     },
     "execution_count": 16,
     "metadata": {},
     "output_type": "execute_result"
    }
   ],
   "source": [
    "verlet(state, timestep, f, e)"
   ]
  },
  {
   "cell_type": "code",
   "execution_count": 17,
   "id": "correct-wheel",
   "metadata": {},
   "outputs": [
    {
     "data": {
      "text/plain": [
       "array([[ 1.05000166e+00,  1.04999929e+00,  1.05000334e+00],\n",
       "       [-7.81688690e-06, -6.21470710e-06,  1.62892439e-06]])"
      ]
     },
     "execution_count": 17,
     "metadata": {},
     "output_type": "execute_result"
    }
   ],
   "source": [
    "state['positions']"
   ]
  },
  {
   "cell_type": "code",
   "execution_count": 18,
   "id": "persistent-arnold",
   "metadata": {},
   "outputs": [
    {
     "name": "stdout",
     "output_type": "stream",
     "text": [
      "[-2, -4, 4] [-2 -4 -6]\n",
      "\n",
      " 36\n",
      "\n",
      " (6.0, [-2, -4, 4])\n"
     ]
    }
   ],
   "source": [
    "xi = (3, 1, 3)\n",
    "xj = (5, 5, 9)\n",
    "L=10\n",
    "\n",
    "r = np.subtract(xi,xj)\n",
    "rl = [a - L*round(a/L) for a in r]\n",
    "print(rl, r)\n",
    "print('\\n',np.square(rl).sum())\n",
    "\n",
    "print('\\n', get_radius_pbc(xi,xj,10))"
   ]
  },
  {
   "cell_type": "code",
   "execution_count": 19,
   "id": "cathedral-pittsburgh",
   "metadata": {},
   "outputs": [
    {
     "data": {
      "text/plain": [
       "array([12.011, 15.999])"
      ]
     },
     "execution_count": 19,
     "metadata": {},
     "output_type": "execute_result"
    }
   ],
   "source": [
    "co.get_masses()"
   ]
  },
  {
   "cell_type": "code",
   "execution_count": 20,
   "id": "sweet-tiffany",
   "metadata": {},
   "outputs": [],
   "source": [
    "d = 1.122\n",
    "co = Atoms('CO', positions=[(d, d, d), (0, 0, 0)], pbc=True)\n",
    "\n",
    "md_system = {'atoms': co, 'forces': np.zeros(co.get_velocities().shape), 'bonds': [(0,1)]}"
   ]
  },
  {
   "cell_type": "code",
   "execution_count": null,
   "id": "dietary-gibraltar",
   "metadata": {},
   "outputs": [],
   "source": []
  },
  {
   "cell_type": "code",
   "execution_count": 21,
   "id": "enabling-gates",
   "metadata": {},
   "outputs": [
    {
     "data": {
      "text/plain": [
       "{'masses': array([12.011, 15.999]),\n",
       " 'positions': array([[ 1.05000288e+00,  1.05000413e+00,  1.04999587e+00],\n",
       "        [ 6.05885430e-06, -2.22625329e-06, -2.18759011e-06]]),\n",
       " 'velocities': array([[ 0.14392329,  0.20647245, -0.20674542],\n",
       "        [ 0.30294534, -0.11131004, -0.10937688]]),\n",
       " 'prev_positions': array([[1.05, 1.05, 1.05],\n",
       "        [0.  , 0.  , 0.  ]]),\n",
       " 'n_at': 2}"
      ]
     },
     "execution_count": 21,
     "metadata": {},
     "output_type": "execute_result"
    }
   ],
   "source": [
    "state"
   ]
  },
  {
   "cell_type": "code",
   "execution_count": 22,
   "id": "included-average",
   "metadata": {},
   "outputs": [
    {
     "name": "stdout",
     "output_type": "stream",
     "text": [
      "[-0.00346544  0.18267726 -0.136334  ]\n",
      "[ 0.1917573  -0.1587879   0.00462737]\n"
     ]
    }
   ],
   "source": [
    "sigma_base = np.sqrt(2.0 * 1.98E-3 * temp / 3)\n",
    "for atom in range(state['n_at']):\n",
    "    sigma = sigma_base * state['masses'][atom]**-0.5\n",
    "    state['velocities'][atom] = np.random.normal(0.0, sigma, 3)\n",
    "    print(state['velocities'][atom])"
   ]
  },
  {
   "cell_type": "code",
   "execution_count": 21,
   "id": "direct-painting",
   "metadata": {},
   "outputs": [],
   "source": [
    "d = 1.122\n",
    "co = Atoms('CO', positions=[(d, d, d), (0, 0, 0)])\n",
    "\n",
    "md_system = {'atoms': co, 'forces': np.zeros(co.get_velocities().shape), 'bonds': [(0,1)]}"
   ]
  },
  {
   "cell_type": "code",
   "execution_count": 28,
   "id": "metropolitan-respondent",
   "metadata": {},
   "outputs": [
    {
     "data": {
      "text/plain": [
       "2001"
      ]
     },
     "execution_count": 28,
     "metadata": {},
     "output_type": "execute_result"
    }
   ],
   "source": [
    "len(distance_sample)"
   ]
  },
  {
   "cell_type": "code",
   "execution_count": 22,
   "id": "continent-lesbian",
   "metadata": {},
   "outputs": [
    {
     "name": "stdout",
     "output_type": "stream",
     "text": [
      "CPU times: user 4 µs, sys: 0 ns, total: 4 µs\n",
      "Wall time: 7.15 µs\n",
      "MD simulation finished\n"
     ]
    }
   ],
   "source": [
    "%time\n",
    "position_sample = md(timestep=2E-5,sim_length=10,data_file=co,temp=300,box=50)"
   ]
  },
  {
   "cell_type": "code",
   "execution_count": 23,
   "id": "acoustic-inclusion",
   "metadata": {},
   "outputs": [],
   "source": [
    "distance_sample = [get_radius_pbc(i[0], i[1],50)[0] for i in position_sample]"
   ]
  },
  {
   "cell_type": "code",
   "execution_count": 25,
   "id": "continent-wilderness",
   "metadata": {},
   "outputs": [
    {
     "data": {
      "image/png": "[encoded data removed]",
      "text/plain": [
       "<Figure size 432x288 with 1 Axes>"
      ]
     },
     "metadata": {
      "needs_background": "light"
     },
     "output_type": "display_data"
    }
   ],
   "source": [
    "from matplotlib import pyplot as plt\n",
    "plt.scatter(range(len(distance_sample)), distance_sample)\n",
    "plt.show()"
   ]
  },
  {
   "cell_type": "code",
   "execution_count": 32,
   "id": "corporate-burner",
   "metadata": {},
   "outputs": [
    {
     "data": {
      "text/plain": [
       "1001"
      ]
     },
     "execution_count": 32,
     "metadata": {},
     "output_type": "execute_result"
    }
   ],
   "source": [
    "len(distance_sample)"
   ]
  },
  {
   "cell_type": "code",
   "execution_count": 61,
   "id": "characteristic-scenario",
   "metadata": {},
   "outputs": [
    {
     "data": {
      "text/plain": [
       "249999.99999999997"
      ]
     },
     "execution_count": 61,
     "metadata": {},
     "output_type": "execute_result"
    }
   ],
   "source": [
    "5/2E-5"
   ]
  },
  {
   "cell_type": "code",
   "execution_count": 23,
   "id": "optical-pillow",
   "metadata": {},
   "outputs": [],
   "source": [
    "from ase.calculators.amber import Amber"
   ]
  },
  {
   "cell_type": "code",
   "execution_count": 24,
   "id": "proper-minority",
   "metadata": {},
   "outputs": [],
   "source": [
    "mol = Atoms('CO', positions=[(d, d, d), (0, 0, 0)], pbc=True, calculator=Amber)\n"
   ]
  },
  {
   "cell_type": "code",
   "execution_count": 25,
   "id": "familiar-advocacy",
   "metadata": {},
   "outputs": [
    {
     "data": {
      "text/plain": [
       "array([[0., 0., 0.],\n",
       "       [0., 0., 0.]])"
      ]
     },
     "execution_count": 25,
     "metadata": {},
     "output_type": "execute_result"
    }
   ],
   "source": [
    "mol.get_velocities()"
   ]
  },
  {
   "cell_type": "code",
   "execution_count": 26,
   "id": "everyday-yahoo",
   "metadata": {},
   "outputs": [
    {
     "ename": "PropertyNotImplementedError",
     "evalue": "",
     "output_type": "error",
     "traceback": [
      "\u001b[0;31m---------------------------------------------------------------------------\u001b[0m",
      "\u001b[0;31mAttributeError\u001b[0m                            Traceback (most recent call last)",
      "\u001b[0;32m/home/robert/miniconda3/envs/atlas-env/lib/python3.7/site-packages/ase/atoms.py\u001b[0m in \u001b[0;36mget_charges\u001b[0;34m(self)\u001b[0m\n\u001b[1;32m    681\u001b[0m         \u001b[0;32mtry\u001b[0m\u001b[0;34m:\u001b[0m\u001b[0;34m\u001b[0m\u001b[0;34m\u001b[0m\u001b[0m\n\u001b[0;32m--> 682\u001b[0;31m             \u001b[0;32mreturn\u001b[0m \u001b[0mself\u001b[0m\u001b[0;34m.\u001b[0m\u001b[0m_calc\u001b[0m\u001b[0;34m.\u001b[0m\u001b[0mget_charges\u001b[0m\u001b[0;34m(\u001b[0m\u001b[0mself\u001b[0m\u001b[0;34m)\u001b[0m\u001b[0;34m\u001b[0m\u001b[0;34m\u001b[0m\u001b[0m\n\u001b[0m\u001b[1;32m    683\u001b[0m         \u001b[0;32mexcept\u001b[0m \u001b[0mAttributeError\u001b[0m\u001b[0;34m:\u001b[0m\u001b[0;34m\u001b[0m\u001b[0;34m\u001b[0m\u001b[0m\n",
      "\u001b[0;32m/home/robert/miniconda3/envs/atlas-env/lib/python3.7/site-packages/ase/calculators/abc.py\u001b[0m in \u001b[0;36mget_charges\u001b[0;34m(self, atoms)\u001b[0m\n\u001b[1;32m     37\u001b[0m     \u001b[0;32mdef\u001b[0m \u001b[0mget_charges\u001b[0m\u001b[0;34m(\u001b[0m\u001b[0mself\u001b[0m\u001b[0;34m,\u001b[0m \u001b[0matoms\u001b[0m\u001b[0;34m=\u001b[0m\u001b[0;32mNone\u001b[0m\u001b[0;34m)\u001b[0m\u001b[0;34m:\u001b[0m\u001b[0;34m\u001b[0m\u001b[0;34m\u001b[0m\u001b[0m\n\u001b[0;32m---> 38\u001b[0;31m         \u001b[0;32mreturn\u001b[0m \u001b[0mself\u001b[0m\u001b[0;34m.\u001b[0m\u001b[0mget_property\u001b[0m\u001b[0;34m(\u001b[0m\u001b[0;34m'charges'\u001b[0m\u001b[0;34m,\u001b[0m \u001b[0matoms\u001b[0m\u001b[0;34m)\u001b[0m\u001b[0;34m\u001b[0m\u001b[0;34m\u001b[0m\u001b[0m\n\u001b[0m\u001b[1;32m     39\u001b[0m \u001b[0;34m\u001b[0m\u001b[0m\n",
      "\u001b[0;31mAttributeError\u001b[0m: 'Atoms' object has no attribute 'get_property'",
      "\nDuring handling of the above exception, another exception occurred:\n",
      "\u001b[0;31mPropertyNotImplementedError\u001b[0m               Traceback (most recent call last)",
      "\u001b[0;32m<ipython-input-26-f777b4cae365>\u001b[0m in \u001b[0;36m<module>\u001b[0;34m()\u001b[0m\n\u001b[0;32m----> 1\u001b[0;31m \u001b[0mmol\u001b[0m\u001b[0;34m.\u001b[0m\u001b[0mget_charges\u001b[0m\u001b[0;34m(\u001b[0m\u001b[0;34m)\u001b[0m\u001b[0;34m\u001b[0m\u001b[0;34m\u001b[0m\u001b[0m\n\u001b[0m",
      "\u001b[0;32m/home/robert/miniconda3/envs/atlas-env/lib/python3.7/site-packages/ase/atoms.py\u001b[0m in \u001b[0;36mget_charges\u001b[0;34m(self)\u001b[0m\n\u001b[1;32m    683\u001b[0m         \u001b[0;32mexcept\u001b[0m \u001b[0mAttributeError\u001b[0m\u001b[0;34m:\u001b[0m\u001b[0;34m\u001b[0m\u001b[0;34m\u001b[0m\u001b[0m\n\u001b[1;32m    684\u001b[0m             \u001b[0;32mfrom\u001b[0m \u001b[0mase\u001b[0m\u001b[0;34m.\u001b[0m\u001b[0mcalculators\u001b[0m\u001b[0;34m.\u001b[0m\u001b[0mcalculator\u001b[0m \u001b[0;32mimport\u001b[0m \u001b[0mPropertyNotImplementedError\u001b[0m\u001b[0;34m\u001b[0m\u001b[0;34m\u001b[0m\u001b[0m\n\u001b[0;32m--> 685\u001b[0;31m             \u001b[0;32mraise\u001b[0m \u001b[0mPropertyNotImplementedError\u001b[0m\u001b[0;34m\u001b[0m\u001b[0;34m\u001b[0m\u001b[0m\n\u001b[0m\u001b[1;32m    686\u001b[0m \u001b[0;34m\u001b[0m\u001b[0m\n\u001b[1;32m    687\u001b[0m     \u001b[0;32mdef\u001b[0m \u001b[0mset_positions\u001b[0m\u001b[0;34m(\u001b[0m\u001b[0mself\u001b[0m\u001b[0;34m,\u001b[0m \u001b[0mnewpositions\u001b[0m\u001b[0;34m,\u001b[0m \u001b[0mapply_constraint\u001b[0m\u001b[0;34m=\u001b[0m\u001b[0;32mTrue\u001b[0m\u001b[0;34m)\u001b[0m\u001b[0;34m:\u001b[0m\u001b[0;34m\u001b[0m\u001b[0;34m\u001b[0m\u001b[0m\n",
      "\u001b[0;31mPropertyNotImplementedError\u001b[0m: "
     ]
    }
   ],
   "source": [
    "mol.get_charges()"
   ]
  },
  {
   "cell_type": "code",
   "execution_count": null,
   "id": "weekly-dispute",
   "metadata": {},
   "outputs": [],
   "source": []
  }
 ],
 "metadata": {
  "kernelspec": {
   "display_name": "Python 3",
   "language": "python",
   "name": "python3"
  },
  "language_info": {
   "codemirror_mode": {
    "name": "ipython",
    "version": 3
   },
   "file_extension": ".py",
   "mimetype": "text/x-python",
   "name": "python",
   "nbconvert_exporter": "python",
   "pygments_lexer": "ipython3",
   "version": "3.7.10"
  }
 },
 "nbformat": 4,
 "nbformat_minor": 5
}
