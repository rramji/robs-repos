{
 "cells": [
  {
   "cell_type": "code",
   "execution_count": 106,
   "id": "intense-gauge",
   "metadata": {},
   "outputs": [],
   "source": [
    "from ase import ase, io, neighborlist\n",
    "from ase.calculators.amber import Amber\n",
    "from functools import partial\n",
    "import numpy as np"
   ]
  },
  {
   "cell_type": "code",
   "execution_count": 107,
   "id": "dramatic-shame",
   "metadata": {},
   "outputs": [],
   "source": [
    "from ase import Atoms\n",
    "d = 1.1\n",
    "co = Atoms('CO', positions=[(0, 0, 0), (0, 0, d)], pbc=True,calculator=Amber)"
   ]
  },
  {
   "cell_type": "code",
   "execution_count": null,
   "id": "freelance-engineer",
   "metadata": {},
   "outputs": [],
   "source": [
    "# need a way to calculate charges..."
   ]
  },
  {
   "cell_type": "code",
   "execution_count": 52,
   "id": "complete-biology",
   "metadata": {},
   "outputs": [
    {
     "data": {
      "text/plain": [
       "array([6, 8])"
      ]
     },
     "execution_count": 52,
     "metadata": {},
     "output_type": "execute_result"
    }
   ],
   "source": [
    "co.get_atomic_numbers()"
   ]
  },
  {
   "cell_type": "code",
   "execution_count": 3,
   "id": "printable-planet",
   "metadata": {},
   "outputs": [],
   "source": [
    "def md(timestep, sim_length, data_file, temp, box):\n",
    "    \n",
    "    current_state = init(data_file, timestep)\n",
    "    t = 0\n",
    "    while t < sim_length:\n",
    "        energy, forces = get_ef(current_state, timestep, box)\n",
    "        new_positions = get_new_positions(current_state, timestep)\n",
    "        new_velocities = get_new_velocities(current_state, timestep)\n",
    "        t = t + timestep\n",
    "        out = [current_state, sample(current_state), energies, forces]\n",
    "    \n",
    "    print(\"MD simulation finished\")"
   ]
  },
  {
   "cell_type": "code",
   "execution_count": 57,
   "id": "statistical-drink",
   "metadata": {},
   "outputs": [
    {
     "data": {
      "text/plain": [
       "{'numbers': array([6, 8]), 'positions': array([[0. , 0. , 0. ],\n",
       "        [0. , 0. , 1.1]])}"
      ]
     },
     "execution_count": 57,
     "metadata": {},
     "output_type": "execute_result"
    }
   ],
   "source": [
    "co.arrays"
   ]
  },
  {
   "cell_type": "markdown",
   "id": "demonstrated-solomon",
   "metadata": {},
   "source": [
    "### TODO: \n",
    "- write get_positions_from_file function\n",
    "- write get_new_positions function\n",
    "- write get_new_velocities function"
   ]
  },
  {
   "cell_type": "code",
   "execution_count": 94,
   "id": "lasting-tunisia",
   "metadata": {},
   "outputs": [],
   "source": [
    "md_system = {'atoms': co, 'forces': np.zeros(co.get_velocities().shape)}"
   ]
  },
  {
   "cell_type": "code",
   "execution_count": 95,
   "id": "miniature-recognition",
   "metadata": {},
   "outputs": [
    {
     "data": {
      "text/plain": [
       "array([[0. , 1. , 0. ],\n",
       "       [0. , 0. , 1.1]])"
      ]
     },
     "execution_count": 95,
     "metadata": {},
     "output_type": "execute_result"
    }
   ],
   "source": [
    "md_system['atoms'].get_positions()"
   ]
  },
  {
   "cell_type": "code",
   "execution_count": 110,
   "id": "legendary-tackle",
   "metadata": {},
   "outputs": [
    {
     "ename": "PropertyNotImplementedError",
     "evalue": "",
     "output_type": "error",
     "traceback": [
      "\u001b[0;31m---------------------------------------------------------------------------\u001b[0m",
      "\u001b[0;31mAttributeError\u001b[0m                            Traceback (most recent call last)",
      "\u001b[0;32m/home/robert/miniconda3/envs/atlas-env/lib/python3.7/site-packages/ase/atoms.py\u001b[0m in \u001b[0;36mget_charges\u001b[0;34m(self)\u001b[0m\n\u001b[1;32m    681\u001b[0m         \u001b[0;32mtry\u001b[0m\u001b[0;34m:\u001b[0m\u001b[0;34m\u001b[0m\u001b[0;34m\u001b[0m\u001b[0m\n\u001b[0;32m--> 682\u001b[0;31m             \u001b[0;32mreturn\u001b[0m \u001b[0mself\u001b[0m\u001b[0;34m.\u001b[0m\u001b[0m_calc\u001b[0m\u001b[0;34m.\u001b[0m\u001b[0mget_charges\u001b[0m\u001b[0;34m(\u001b[0m\u001b[0mself\u001b[0m\u001b[0;34m)\u001b[0m\u001b[0;34m\u001b[0m\u001b[0;34m\u001b[0m\u001b[0m\n\u001b[0m\u001b[1;32m    683\u001b[0m         \u001b[0;32mexcept\u001b[0m \u001b[0mAttributeError\u001b[0m\u001b[0;34m:\u001b[0m\u001b[0;34m\u001b[0m\u001b[0;34m\u001b[0m\u001b[0m\n",
      "\u001b[0;32m/home/robert/miniconda3/envs/atlas-env/lib/python3.7/site-packages/ase/calculators/abc.py\u001b[0m in \u001b[0;36mget_charges\u001b[0;34m(self, atoms)\u001b[0m\n\u001b[1;32m     37\u001b[0m     \u001b[0;32mdef\u001b[0m \u001b[0mget_charges\u001b[0m\u001b[0;34m(\u001b[0m\u001b[0mself\u001b[0m\u001b[0;34m,\u001b[0m \u001b[0matoms\u001b[0m\u001b[0;34m=\u001b[0m\u001b[0;32mNone\u001b[0m\u001b[0;34m)\u001b[0m\u001b[0;34m:\u001b[0m\u001b[0;34m\u001b[0m\u001b[0;34m\u001b[0m\u001b[0m\n\u001b[0;32m---> 38\u001b[0;31m         \u001b[0;32mreturn\u001b[0m \u001b[0mself\u001b[0m\u001b[0;34m.\u001b[0m\u001b[0mget_property\u001b[0m\u001b[0;34m(\u001b[0m\u001b[0;34m'charges'\u001b[0m\u001b[0;34m,\u001b[0m \u001b[0matoms\u001b[0m\u001b[0;34m)\u001b[0m\u001b[0;34m\u001b[0m\u001b[0;34m\u001b[0m\u001b[0m\n\u001b[0m\u001b[1;32m     39\u001b[0m \u001b[0;34m\u001b[0m\u001b[0m\n",
      "\u001b[0;31mAttributeError\u001b[0m: 'Atoms' object has no attribute 'get_property'",
      "\nDuring handling of the above exception, another exception occurred:\n",
      "\u001b[0;31mPropertyNotImplementedError\u001b[0m               Traceback (most recent call last)",
      "\u001b[0;32m<ipython-input-110-4e9f507b48e3>\u001b[0m in \u001b[0;36m<module>\u001b[0;34m()\u001b[0m\n\u001b[0;32m----> 1\u001b[0;31m \u001b[0mco\u001b[0m\u001b[0;34m.\u001b[0m\u001b[0mget_charges\u001b[0m\u001b[0;34m(\u001b[0m\u001b[0;34m)\u001b[0m\u001b[0;34m\u001b[0m\u001b[0;34m\u001b[0m\u001b[0m\n\u001b[0m",
      "\u001b[0;32m/home/robert/miniconda3/envs/atlas-env/lib/python3.7/site-packages/ase/atoms.py\u001b[0m in \u001b[0;36mget_charges\u001b[0;34m(self)\u001b[0m\n\u001b[1;32m    683\u001b[0m         \u001b[0;32mexcept\u001b[0m \u001b[0mAttributeError\u001b[0m\u001b[0;34m:\u001b[0m\u001b[0;34m\u001b[0m\u001b[0;34m\u001b[0m\u001b[0m\n\u001b[1;32m    684\u001b[0m             \u001b[0;32mfrom\u001b[0m \u001b[0mase\u001b[0m\u001b[0;34m.\u001b[0m\u001b[0mcalculators\u001b[0m\u001b[0;34m.\u001b[0m\u001b[0mcalculator\u001b[0m \u001b[0;32mimport\u001b[0m \u001b[0mPropertyNotImplementedError\u001b[0m\u001b[0;34m\u001b[0m\u001b[0;34m\u001b[0m\u001b[0m\n\u001b[0;32m--> 685\u001b[0;31m             \u001b[0;32mraise\u001b[0m \u001b[0mPropertyNotImplementedError\u001b[0m\u001b[0;34m\u001b[0m\u001b[0;34m\u001b[0m\u001b[0m\n\u001b[0m\u001b[1;32m    686\u001b[0m \u001b[0;34m\u001b[0m\u001b[0m\n\u001b[1;32m    687\u001b[0m     \u001b[0;32mdef\u001b[0m \u001b[0mset_positions\u001b[0m\u001b[0;34m(\u001b[0m\u001b[0mself\u001b[0m\u001b[0;34m,\u001b[0m \u001b[0mnewpositions\u001b[0m\u001b[0;34m,\u001b[0m \u001b[0mapply_constraint\u001b[0m\u001b[0;34m=\u001b[0m\u001b[0;32mTrue\u001b[0m\u001b[0;34m)\u001b[0m\u001b[0;34m:\u001b[0m\u001b[0;34m\u001b[0m\u001b[0;34m\u001b[0m\u001b[0m\n",
      "\u001b[0;31mPropertyNotImplementedError\u001b[0m: "
     ]
    }
   ],
   "source": [
    "co.get_charges()"
   ]
  },
  {
   "cell_type": "code",
   "execution_count": 111,
   "id": "vital-nevada",
   "metadata": {},
   "outputs": [],
   "source": [
    "cutoff = neighborlist.natural_cutoffs(co)\n",
    "nl = neighborlist.NeighborList(cutoff, self_interaction=False, bothways=True)\n",
    "nl.update(co)\n",
    "matrix = nl.get_connectivity_matrix()\n",
    "\n",
    "atoms = {}\n",
    "for i, atom in enumerate(co):\n",
    "    atoms[atom] = {\n",
    "        'position': co.get_positions()[i],\n",
    "        'velocity': co.get_velocities()[i],\n",
    "        'mass': co.get_masses()[i],\n",
    "        #'charge': co.get_charges()[i],\n",
    "        'force': [0, 0, 0],\n",
    "        'bonds': []\n",
    "    }\n",
    "    \n",
    "    "
   ]
  },
  {
   "cell_type": "code",
   "execution_count": 103,
   "id": "another-burlington",
   "metadata": {},
   "outputs": [
    {
     "name": "stdout",
     "output_type": "stream",
     "text": [
      "(0, Atom('C', [0.0, 1.0, 0.0], index=0))\n",
      "(1, Atom('O', [0.0, 0.0, 1.1], index=1))\n"
     ]
    }
   ],
   "source": [
    "for i in enumerate(co):\n",
    "    print(i)"
   ]
  },
  {
   "cell_type": "code",
   "execution_count": 7,
   "id": "marked-surge",
   "metadata": {},
   "outputs": [],
   "source": [
    "#initialize the system with random kinetic energy\n",
    "def init(initial_md_system, temp):\n",
    "    \n",
    "    positions = initial_md_system['atoms'].get_positions()\n",
    "    n_at = len(positions)\n",
    "    \n",
    "    #initialize velocities\n",
    "    #maxwell-boltzmann standard distribution (from TMP Chem)\n",
    "    velocities = initial_md_system['atoms'].get_velocities()\n",
    "    sigma_base = math.sqrt(2.0 * 1.98E-3 * self.temperature / 3)\n",
    "    for vel in velocities:\n",
    "       sigma = sigma_base * \n",
    "    \n",
    "    velocities = np.random.normal(0.0, sigma, 3)\n",
    "    \n",
    "    sumv = velocities.sum() / n_at\n",
    "    sumv2 = sumv**2 / n_at\n",
    "    fs = np.sqrt(3*temp/sumv2)\n",
    "    velocities = (velocities - sumv)*fs\n",
    "    prev_positions = positions - (velocities*timestep)\n",
    "    \n",
    "    state['positions'] = positions\n",
    "    state['velocities'] = velocities\n",
    "    state['prev_positions'] = prev_positions\n",
    "    state['n'] = n_at\n",
    "    \n",
    "    return state"
   ]
  },
  {
   "cell_type": "code",
   "execution_count": 43,
   "id": "baking-strike",
   "metadata": {},
   "outputs": [],
   "source": [
    "def get_radius_pbc(atom_1, atom_2, L):\n",
    "    r = np.subtract(atom_1, atom_2)\n",
    "    r_nearest = [a - L*round(a/L) for a in r]\n",
    "    return np.sqrt(np.square(r_nearest).sum())"
   ]
  },
  {
   "cell_type": "code",
   "execution_count": 9,
   "id": "posted-mozambique",
   "metadata": {},
   "outputs": [],
   "source": [
    "def get_ef(state, temp, box):\n",
    "    energy = 0\n",
    "    rc = box/2\n",
    "    ecut =  4*(rc**-12 - rc**-6)\n",
    "    n_at = state['n']\n",
    "    forces = np.zeros(n_at)\n",
    "    for i in range(n_at-1):\n",
    "        for j in range(i+1,n_at):\n",
    "            r = get_radius_pbc(state['positions'][i],state['positions'][j],box)\n",
    "            if r < rc:\n",
    "                r2i = 1 / (r**2)\n",
    "                r6i = r2i ** 3 \n",
    "                ff = (48 * r2i) * (r6i * (r6i - 0.5))\n",
    "                f[i] += ff*r\n",
    "                f[j] += -ff*r\n",
    "                energy += 4*r6i*(r6i-1)-ecut\n",
    "    \n",
    "    return (energy, forces)"
   ]
  },
  {
   "cell_type": "code",
   "execution_count": 44,
   "id": "representative-separate",
   "metadata": {},
   "outputs": [
    {
     "ename": "SyntaxError",
     "evalue": "invalid syntax (<ipython-input-44-760e9a708c54>, line 1)",
     "output_type": "error",
     "traceback": [
      "\u001b[0;36m  File \u001b[0;32m\"<ipython-input-44-760e9a708c54>\"\u001b[0;36m, line \u001b[0;32m1\u001b[0m\n\u001b[0;31m    def verlet()\u001b[0m\n\u001b[0m                ^\u001b[0m\n\u001b[0;31mSyntaxError\u001b[0m\u001b[0;31m:\u001b[0m invalid syntax\n"
     ]
    }
   ],
   "source": [
    "def verlet()"
   ]
  },
  {
   "cell_type": "code",
   "execution_count": 30,
   "id": "inside-afternoon",
   "metadata": {},
   "outputs": [],
   "source": [
    "xi = (3, 1, 3)\n",
    "xj = (5, 5, 9)\n",
    "\n",
    "r = np.subtract(xi,xj)"
   ]
  },
  {
   "cell_type": "code",
   "execution_count": 17,
   "id": "aboriginal-appliance",
   "metadata": {},
   "outputs": [
    {
     "data": {
      "text/plain": [
       "-2"
      ]
     },
     "execution_count": 17,
     "metadata": {},
     "output_type": "execute_result"
    }
   ],
   "source": [
    "z"
   ]
  },
  {
   "cell_type": "code",
   "execution_count": 20,
   "id": "informative-resident",
   "metadata": {},
   "outputs": [],
   "source": [
    "L = 10"
   ]
  },
  {
   "cell_type": "code",
   "execution_count": 21,
   "id": "removed-corpus",
   "metadata": {},
   "outputs": [],
   "source": [
    "r = np.subtract(xi,xj)"
   ]
  },
  {
   "cell_type": "code",
   "execution_count": 31,
   "id": "aerial-graphics",
   "metadata": {},
   "outputs": [],
   "source": [
    "rl = [a - L*round(a/L) for a in r]"
   ]
  },
  {
   "cell_type": "code",
   "execution_count": 36,
   "id": "chief-lover",
   "metadata": {},
   "outputs": [
    {
     "data": {
      "text/plain": [
       "[-2, -4, 4]"
      ]
     },
     "execution_count": 36,
     "metadata": {},
     "output_type": "execute_result"
    }
   ],
   "source": [
    "rl"
   ]
  },
  {
   "cell_type": "code",
   "execution_count": 29,
   "id": "generic-vitamin",
   "metadata": {},
   "outputs": [
    {
     "data": {
      "text/plain": [
       "array([-2, -4, -2])"
      ]
     },
     "execution_count": 29,
     "metadata": {},
     "output_type": "execute_result"
    }
   ],
   "source": [
    "r"
   ]
  },
  {
   "cell_type": "code",
   "execution_count": 39,
   "id": "driven-bradley",
   "metadata": {},
   "outputs": [
    {
     "data": {
      "text/plain": [
       "36"
      ]
     },
     "execution_count": 39,
     "metadata": {},
     "output_type": "execute_result"
    }
   ],
   "source": [
    "np.square(rl).sum()"
   ]
  },
  {
   "cell_type": "code",
   "execution_count": 42,
   "id": "bottom-teacher",
   "metadata": {},
   "outputs": [
    {
     "data": {
      "text/plain": [
       "6.0"
      ]
     },
     "execution_count": 42,
     "metadata": {},
     "output_type": "execute_result"
    }
   ],
   "source": [
    "get_radius_pbc(xi,xj,10)"
   ]
  },
  {
   "cell_type": "code",
   "execution_count": 49,
   "id": "hungarian-gospel",
   "metadata": {},
   "outputs": [
    {
     "data": {
      "text/plain": [
       "array([[0.],\n",
       "       [0.],\n",
       "       [0.]])"
      ]
     },
     "execution_count": 49,
     "metadata": {},
     "output_type": "execute_result"
    }
   ],
   "source": [
    "np.zeros((3,1))"
   ]
  },
  {
   "cell_type": "code",
   "execution_count": 73,
   "id": "center-junior",
   "metadata": {},
   "outputs": [
    {
     "data": {
      "text/plain": [
       "array([12.011, 15.999])"
      ]
     },
     "execution_count": 73,
     "metadata": {},
     "output_type": "execute_result"
    }
   ],
   "source": [
    "co.get_masses()"
   ]
  },
  {
   "cell_type": "code",
   "execution_count": 82,
   "id": "theoretical-collapse",
   "metadata": {},
   "outputs": [],
   "source": [
    "x = co.get_velocities()"
   ]
  },
  {
   "cell_type": "code",
   "execution_count": 83,
   "id": "aquatic-designer",
   "metadata": {},
   "outputs": [
    {
     "data": {
      "text/plain": [
       "(2, 3)"
      ]
     },
     "execution_count": 83,
     "metadata": {},
     "output_type": "execute_result"
    }
   ],
   "source": [
    "x.shape"
   ]
  },
  {
   "cell_type": "code",
   "execution_count": 84,
   "id": "alpha-hotel",
   "metadata": {},
   "outputs": [
    {
     "data": {
      "text/plain": [
       "array([[0., 0., 0.],\n",
       "       [0., 0., 0.]])"
      ]
     },
     "execution_count": 84,
     "metadata": {},
     "output_type": "execute_result"
    }
   ],
   "source": [
    "np.zeros(x.shape)"
   ]
  },
  {
   "cell_type": "code",
   "execution_count": 91,
   "id": "rotary-voluntary",
   "metadata": {},
   "outputs": [
    {
     "data": {
      "text/plain": [
       "array([[0. , 0. , 0. ],\n",
       "       [0. , 0. , 1.1]])"
      ]
     },
     "execution_count": 91,
     "metadata": {},
     "output_type": "execute_result"
    }
   ],
   "source": [
    "co.get_positions()"
   ]
  },
  {
   "cell_type": "code",
   "execution_count": 93,
   "id": "impressive-shuttle",
   "metadata": {},
   "outputs": [],
   "source": [
    "co.set_positions([[0,1,0],[0,0,1.1]])"
   ]
  },
  {
   "cell_type": "code",
   "execution_count": 102,
   "id": "second-twenty",
   "metadata": {},
   "outputs": [
    {
     "data": {
      "text/plain": [
       "array([12.011, 15.999])"
      ]
     },
     "execution_count": 102,
     "metadata": {},
     "output_type": "execute_result"
    }
   ],
   "source": [
    "co.get_masses()"
   ]
  },
  {
   "cell_type": "code",
   "execution_count": null,
   "id": "floppy-evans",
   "metadata": {},
   "outputs": [],
   "source": []
  }
 ],
 "metadata": {
  "kernelspec": {
   "display_name": "Python 3",
   "language": "python",
   "name": "python3"
  },
  "language_info": {
   "codemirror_mode": {
    "name": "ipython",
    "version": 3
   },
   "file_extension": ".py",
   "mimetype": "text/x-python",
   "name": "python",
   "nbconvert_exporter": "python",
   "pygments_lexer": "ipython3",
   "version": "3.7.10"
  }
 },
 "nbformat": 4,
 "nbformat_minor": 5
}
