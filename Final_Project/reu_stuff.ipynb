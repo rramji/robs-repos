{
 "cells": [
  {
   "cell_type": "code",
   "execution_count": 15,
   "id": "a80c53ec-08e3-4d61-8658-7fae263ec42e",
   "metadata": {},
   "outputs": [
    {
     "name": "stdin",
     "output_type": "stream",
     "text": [
      "Enter your name:  Robert\n",
      "Enter your age:  24\n"
     ]
    },
    {
     "name": "stdout",
     "output_type": "stream",
     "text": [
      "\n",
      "\n",
      "Hi Robert!\n",
      "You will turn 100 in 2097\n"
     ]
    }
   ],
   "source": [
    "name = input(\"Enter your name: \")\n",
    "age = input(\"Enter your age: \")\n",
    "try:\n",
    "    age = int(age)\n",
    "except ValueError as E:\n",
    "    print(\"Please enter an integer number of years\")\n",
    "    \n",
    "print('\\n')\n",
    "print(\"Hi \", name, \"!\", sep='')\n",
    "print(\"You will turn 100 in\", year-age+100)"
   ]
  },
  {
   "cell_type": "code",
   "execution_count": 8,
   "id": "df839794-ef94-4c98-85b3-22a0e34ab06e",
   "metadata": {},
   "outputs": [
    {
     "name": "stdout",
     "output_type": "stream",
     "text": [
      "2021\n"
     ]
    }
   ],
   "source": [
    "from datetime import date\n",
    "year = date.today().year\n",
    "print(year)"
   ]
  },
  {
   "cell_type": "code",
   "execution_count": 11,
   "id": "1f16e410-8959-410f-adc0-739ded1bdd79",
   "metadata": {},
   "outputs": [
    {
     "data": {
      "text/plain": [
       "1997"
      ]
     },
     "execution_count": 11,
     "metadata": {},
     "output_type": "execute_result"
    }
   ],
   "source": [
    "date.today().year - age"
   ]
  },
  {
   "cell_type": "code",
   "execution_count": null,
   "id": "19e0489c-31ea-42c8-8390-9a52d1a7e132",
   "metadata": {},
   "outputs": [],
   "source": []
  }
 ],
 "metadata": {
  "kernelspec": {
   "display_name": "Python 3",
   "language": "python",
   "name": "python3"
  },
  "language_info": {
   "codemirror_mode": {
    "name": "ipython",
    "version": 3
   },
   "file_extension": ".py",
   "mimetype": "text/x-python",
   "name": "python",
   "nbconvert_exporter": "python",
   "pygments_lexer": "ipython3",
   "version": "3.6.9"
  }
 },
 "nbformat": 4,
 "nbformat_minor": 5
}
