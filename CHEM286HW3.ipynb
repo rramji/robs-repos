{
 "cells": [
  {
   "cell_type": "markdown",
   "id": "classified-stone",
   "metadata": {},
   "source": [
    "## CHEM286 HW3 Workbook - robert ramji"
   ]
  },
  {
   "cell_type": "markdown",
   "id": "sustainable-electric",
   "metadata": {},
   "source": [
    "### Problem 1"
   ]
  },
  {
   "cell_type": "code",
   "execution_count": 20,
   "id": "handmade-accused",
   "metadata": {},
   "outputs": [],
   "source": [
    "from math import pi, sqrt\n",
    "\n",
    "def interaction_eng(D):\n",
    "    r = 10\n",
    "    return -332/(D*r)"
   ]
  },
  {
   "cell_type": "code",
   "execution_count": 8,
   "id": "pursuant-harmony",
   "metadata": {},
   "outputs": [
    {
     "data": {
      "text/plain": [
       "[-33.2, -17.473684210526315, -0.9260808926080892, -0.415]"
      ]
     },
     "execution_count": 8,
     "metadata": {},
     "output_type": "execute_result"
    }
   ],
   "source": [
    "dielectrics = [1, 1.9, 35.85, 80]\n",
    "\n",
    "engs = [interaction_eng(D) for D in dielectrics]\n",
    "\n",
    "engs"
   ]
  },
  {
   "cell_type": "markdown",
   "id": "geological-sewing",
   "metadata": {},
   "source": [
    "### Problem 2"
   ]
  },
  {
   "cell_type": "code",
   "execution_count": 34,
   "id": "quantitative-franklin",
   "metadata": {},
   "outputs": [
    {
     "data": {
      "text/plain": [
       "[0.2792648999999999, 0.269799, 0.269799]"
      ]
     },
     "execution_count": 34,
     "metadata": {},
     "output_type": "execute_result"
    }
   ],
   "source": [
    "O = (0,0,0,-0.834)\n",
    "H1 = (0.96,0,0,0.417)\n",
    "H2 = (-0.2903,0.647,0.647,0.417)\n",
    "h2o = [O, H1, H2]\n",
    "\n",
    "mu = [0,0,0]\n",
    "for atom in h2o:\n",
    "    for j in range(len(mu)):\n",
    "        mu[j] += (atom[j] * atom[3])\n",
    "\n",
    "mu"
   ]
  },
  {
   "cell_type": "code",
   "execution_count": 36,
   "id": "substantial-stations",
   "metadata": {},
   "outputs": [
    {
     "data": {
      "text/plain": [
       "2.2732398437787107"
      ]
     },
     "execution_count": 36,
     "metadata": {},
     "output_type": "execute_result"
    }
   ],
   "source": [
    "sqrt(mu[0]**2 + mu[1]**2 + mu[2]**2)/0.208"
   ]
  },
  {
   "cell_type": "code",
   "execution_count": 42,
   "id": "grateful-potter",
   "metadata": {},
   "outputs": [],
   "source": [
    "def get_dipole(molecule):\n",
    "    mu = [0, 0, 0]\n",
    "    for atom in molecule:\n",
    "        for j in range(len(mu)):\n",
    "            mu[j] += (atom[j] * atom[3])\n",
    "            \n",
    "    return sqrt(mu[0]**2 + mu[1]**2 + mu[2]**2)/0.208"
   ]
  },
  {
   "cell_type": "code",
   "execution_count": 43,
   "id": "fuzzy-variance",
   "metadata": {},
   "outputs": [
    {
     "data": {
      "text/plain": [
       "2.9908863593418333"
      ]
     },
     "execution_count": 43,
     "metadata": {},
     "output_type": "execute_result"
    }
   ],
   "source": [
    "C = (0, 0, 0, 0.04)\n",
    "O = (1.428, 0, 0, -0.068)\n",
    "H1 = (1.7183, -0.2368, 0.8839, 0.4)\n",
    "H2 = (-0.3633, 0.7267, 0.7267, 0.08)\n",
    "H3 = (-0.3633, -0.9926, 0.2660, 0.08)\n",
    "H4 = (-0.3633, 0.2660, -0.9926, 0.08)\n",
    "methanol = [C, O, H1, H2, H3, H4]\n",
    "\n",
    "get_dipole(methanol)"
   ]
  },
  {
   "cell_type": "code",
   "execution_count": 39,
   "id": "textile-interstate",
   "metadata": {},
   "outputs": [
    {
     "data": {
      "text/plain": [
       "[0, 0, 0, 0, 0, 0]"
      ]
     },
     "execution_count": 39,
     "metadata": {},
     "output_type": "execute_result"
    }
   ],
   "source": [
    "[0]*len(methanol)"
   ]
  },
  {
   "cell_type": "code",
   "execution_count": 44,
   "id": "demonstrated-volume",
   "metadata": {},
   "outputs": [
    {
     "data": {
      "text/plain": [
       "3.8461538461510206e-05"
      ]
     },
     "execution_count": 44,
     "metadata": {},
     "output_type": "execute_result"
    }
   ],
   "source": [
    "C = (0, 0, 0, -0.24)\n",
    "C1 = (1.428, 0, 0, -0.24)\n",
    "H11 = (1.7913, -0.2660, 0.9927, 0.08)\n",
    "H12 = (1.7913, 0.9926, -0.2660, 0.0800)\n",
    "H13 = (1.7913, -0.7267, -0.7267, 0.0800)\n",
    "H2 = (-0.3633, 0.7267, 0.7267, 0.0800) \n",
    "H3 = (-0.3633, -0.9926, 0.2660, 0.0800) \n",
    "H4 = (-0.3633, 0.2660, -0.9926, 0.0800)\n",
    "ethane = [C, C1, H11, H12, H13, H2, H3, H4]\n",
    "\n",
    "get_dipole(ethane)"
   ]
  },
  {
   "cell_type": "markdown",
   "id": "featured-fellow",
   "metadata": {},
   "source": [
    "### Problem 5 - Extra Credit"
   ]
  },
  {
   "cell_type": "code",
   "execution_count": 110,
   "id": "emerging-effectiveness",
   "metadata": {},
   "outputs": [],
   "source": [
    "import pandas as pd\n",
    "import numpy as np\n",
    "df = pd.read_excel(\"/home/robert/D/ESPFit.xlsx\")"
   ]
  },
  {
   "cell_type": "code",
   "execution_count": 53,
   "id": "raised-timeline",
   "metadata": {},
   "outputs": [
    {
     "data": {
      "text/plain": [
       "Index(['Unnamed: 0', 'Unnamed: 1', 'Unnamed: 2', 'Unnamed: 3', 'Unnamed: 4',\n",
       "       'Unnamed: 5', 'Unnamed: 6', 'Unnamed: 7', 'Unnamed: 8', 'Unnamed: 9',\n",
       "       'Unnamed: 10', 'Unnamed: 11', 'Unnamed: 12', 'Unnamed: 13',\n",
       "       'Unnamed: 14', 'Unnamed: 15', 'Unnamed: 16', 'Unnamed: 17',\n",
       "       'Unnamed: 18', 'Unnamed: 19', 'Unnamed: 20', 'Unnamed: 21'],\n",
       "      dtype='object')"
      ]
     },
     "execution_count": 53,
     "metadata": {},
     "output_type": "execute_result"
    }
   ],
   "source": [
    "df.columns #yikes"
   ]
  },
  {
   "cell_type": "code",
   "execution_count": 71,
   "id": "assured-macedonia",
   "metadata": {},
   "outputs": [
    {
     "data": {
      "text/html": [
       "<div>\n",
       "<style scoped>\n",
       "    .dataframe tbody tr th:only-of-type {\n",
       "        vertical-align: middle;\n",
       "    }\n",
       "\n",
       "    .dataframe tbody tr th {\n",
       "        vertical-align: top;\n",
       "    }\n",
       "\n",
       "    .dataframe thead th {\n",
       "        text-align: right;\n",
       "    }\n",
       "</style>\n",
       "<table border=\"1\" class=\"dataframe\">\n",
       "  <thead>\n",
       "    <tr style=\"text-align: right;\">\n",
       "      <th></th>\n",
       "      <th>x</th>\n",
       "      <th>y</th>\n",
       "      <th>z</th>\n",
       "      <th>Reference Potential</th>\n",
       "    </tr>\n",
       "  </thead>\n",
       "  <tbody>\n",
       "    <tr>\n",
       "      <th>3</th>\n",
       "      <td>-5.174</td>\n",
       "      <td>4.361</td>\n",
       "      <td>1.413</td>\n",
       "      <td>4.396314</td>\n",
       "    </tr>\n",
       "    <tr>\n",
       "      <th>4</th>\n",
       "      <td>-4.189</td>\n",
       "      <td>-5.449</td>\n",
       "      <td>0.823</td>\n",
       "      <td>4.410081</td>\n",
       "    </tr>\n",
       "    <tr>\n",
       "      <th>5</th>\n",
       "      <td>-2.154</td>\n",
       "      <td>2.562</td>\n",
       "      <td>5.039</td>\n",
       "      <td>3.351862</td>\n",
       "    </tr>\n",
       "    <tr>\n",
       "      <th>6</th>\n",
       "      <td>0.852</td>\n",
       "      <td>-3.391</td>\n",
       "      <td>0.279</td>\n",
       "      <td>-4.335746</td>\n",
       "    </tr>\n",
       "    <tr>\n",
       "      <th>7</th>\n",
       "      <td>-4.054</td>\n",
       "      <td>1.295</td>\n",
       "      <td>0.131</td>\n",
       "      <td>16.053091</td>\n",
       "    </tr>\n",
       "  </tbody>\n",
       "</table>\n",
       "</div>"
      ],
      "text/plain": [
       "       x      y      z Reference Potential\n",
       "3 -5.174  4.361  1.413            4.396314\n",
       "4 -4.189 -5.449  0.823            4.410081\n",
       "5 -2.154  2.562  5.039            3.351862\n",
       "6  0.852 -3.391  0.279           -4.335746\n",
       "7 -4.054  1.295  0.131           16.053091"
      ]
     },
     "execution_count": 71,
     "metadata": {},
     "output_type": "execute_result"
    }
   ],
   "source": [
    "# clean up the data based on excel sheet + visual inspection\n",
    "RESP = df.drop(['Unnamed: 0', 'Unnamed: 1', 'Unnamed: 2', 'Unnamed: 3', 'Unnamed: 4',\n",
    "       'Unnamed: 5', 'Unnamed: 10','Unnamed: 11', 'Unnamed: 12', 'Unnamed: 13',\n",
    "       'Unnamed: 14', 'Unnamed: 15', 'Unnamed: 16', 'Unnamed: 17',\n",
    "       'Unnamed: 18', 'Unnamed: 19', 'Unnamed: 20', 'Unnamed: 21'], axis =1)\n",
    "RESP = RESP.drop([0,1,2])\n",
    "RESP.columns = [\"x\", \"y\", \"z\", \"Reference Potential\"]\n",
    "RESP.head()"
   ]
  },
  {
   "cell_type": "code",
   "execution_count": 72,
   "id": "removable-auditor",
   "metadata": {},
   "outputs": [],
   "source": [
    "# manually enter atom data\n",
    "atom1 = (-0.797, -0.023, -0.035, 0)\n",
    "atom2 = (0.731, 0.013, -0.049, 0)\n",
    "atoms = [atom1, atom2]"
   ]
  },
  {
   "cell_type": "code",
   "execution_count": 74,
   "id": "vocational-dragon",
   "metadata": {},
   "outputs": [],
   "source": [
    "# get scalar distance from position vectors\n",
    "def distance(atom, point):\n",
    "    return sqrt((atom[0]-point[0])**2 + (atom[1]-point[1])**2 + (atom[2]-point[2])**2)"
   ]
  },
  {
   "cell_type": "code",
   "execution_count": 94,
   "id": "grateful-programming",
   "metadata": {},
   "outputs": [],
   "source": [
    "# attempting to avoid for-loops and perform more\n",
    "# efficient column-wise operations for getting distances\n",
    "\n",
    "a1_xs = RESP[\"x\"].apply(lambda x: (atom1[0]-x)**2)\n",
    "a1_ys = RESP[\"y\"].apply(lambda y: (atom1[1]-y)**2)\n",
    "a1_zs = RESP[\"z\"].apply(lambda z: (atom1[2]-z)**2)\n",
    "\n",
    "a1_dist = a1_xs + a1_ys + a1_zs\n",
    "a1_dist = a1_dist.apply(lambda x: sqrt(x))\n",
    "\n",
    "a2_xs = RESP[\"x\"].apply(lambda x: (atom2[0]-x)**2)\n",
    "a2_ys = RESP[\"y\"].apply(lambda y: (atom2[1]-y)**2)\n",
    "a2_zs = RESP[\"z\"].apply(lambda z: (atom2[2]-z)**2)\n",
    "\n",
    "a2_dist = a2_xs + a2_ys + a2_zs\n",
    "a2_dist = a2_dist.apply(lambda x: sqrt(x))\n",
    "\n",
    "ref = RESP[\"Reference Potential\"]"
   ]
  },
  {
   "cell_type": "code",
   "execution_count": 126,
   "id": "demonstrated-violation",
   "metadata": {},
   "outputs": [],
   "source": [
    "# Calculate the sum squared error for a given atomic charge q.\n",
    "# Although there are two atoms, the molecule is neutral so \n",
    "# atom charges must therefore be equal and opposite\n",
    "\n",
    "# Note to Prof. Gilson: If my numbers were wrong, it probably came from this function or mishandling of units\n",
    "def get_err(q):\n",
    "    err = 0\n",
    "    for a in np.arange(3,61):\n",
    "        err += (332*q*((1/a1_dist[a])-(1/a2_dist[a]))-ref[a])**2\n",
    "\n",
    "    return err"
   ]
  },
  {
   "cell_type": "code",
   "execution_count": 124,
   "id": "underlying-franklin",
   "metadata": {},
   "outputs": [],
   "source": [
    "from matplotlib import pyplot as plt\n",
    "q = np.linspace(0,1,200)"
   ]
  },
  {
   "cell_type": "code",
   "execution_count": 127,
   "id": "catholic-server",
   "metadata": {},
   "outputs": [],
   "source": [
    "errs = [get_err(i) for i in q]"
   ]
  },
  {
   "cell_type": "code",
   "execution_count": 150,
   "id": "close-alcohol",
   "metadata": {},
   "outputs": [
    {
     "data": {
      "image/png": "[encoded data removed]",
      "text/plain": [
       "<Figure size 720x432 with 1 Axes>"
      ]
     },
     "metadata": {
      "needs_background": "light"
     },
     "output_type": "display_data"
    }
   ],
   "source": [
    "plt.figure(figsize=(10,6))\n",
    "plt.scatter(q,errs)\n",
    "plt.title(\"Sum squared error vs Partial charge\", fontsize=16)\n",
    "plt.xlabel(\"Partial charge (a.u.)\", fontsize=14)\n",
    "plt.ylabel(\"Sum squared error $(kcal/mol/a.u.)^{2}$\", fontsize=14)\n",
    "plt.show()"
   ]
  },
  {
   "cell_type": "code",
   "execution_count": 145,
   "id": "honey-franchise",
   "metadata": {},
   "outputs": [
    {
     "data": {
      "text/html": [
       "<div>\n",
       "<style scoped>\n",
       "    .dataframe tbody tr th:only-of-type {\n",
       "        vertical-align: middle;\n",
       "    }\n",
       "\n",
       "    .dataframe tbody tr th {\n",
       "        vertical-align: top;\n",
       "    }\n",
       "\n",
       "    .dataframe thead th {\n",
       "        text-align: right;\n",
       "    }\n",
       "</style>\n",
       "<table border=\"1\" class=\"dataframe\">\n",
       "  <thead>\n",
       "    <tr style=\"text-align: right;\">\n",
       "      <th></th>\n",
       "      <th>0</th>\n",
       "      <th>1</th>\n",
       "    </tr>\n",
       "  </thead>\n",
       "  <tbody>\n",
       "    <tr>\n",
       "      <th>108</th>\n",
       "      <td>0.542714</td>\n",
       "      <td>24.364686</td>\n",
       "    </tr>\n",
       "  </tbody>\n",
       "</table>\n",
       "</div>"
      ],
      "text/plain": [
       "            0          1\n",
       "108  0.542714  24.364686"
      ]
     },
     "execution_count": 145,
     "metadata": {},
     "output_type": "execute_result"
    }
   ],
   "source": [
    "# get the pair of points with minimum SSE\n",
    "df2 = pd.DataFrame([q,errs]).T\n",
    "df2[df2[1].idxmin():109]"
   ]
  },
  {
   "cell_type": "markdown",
   "id": "dated-eating",
   "metadata": {},
   "source": [
    "Minimum SSE is achieved at +/- 0.542714 a.u. on atom 1 and the opposite charge on atom 2."
   ]
  },
  {
   "cell_type": "code",
   "execution_count": null,
   "id": "narrow-modification",
   "metadata": {},
   "outputs": [],
   "source": []
  }
 ],
 "metadata": {
  "kernelspec": {
   "display_name": "Python 3",
   "language": "python",
   "name": "python3"
  },
  "language_info": {
   "codemirror_mode": {
    "name": "ipython",
    "version": 3
   },
   "file_extension": ".py",
   "mimetype": "text/x-python",
   "name": "python",
   "nbconvert_exporter": "python",
   "pygments_lexer": "ipython3",
   "version": "3.7.10"
  }
 },
 "nbformat": 4,
 "nbformat_minor": 5
}
