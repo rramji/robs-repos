{
 "cells": [
  {
   "cell_type": "markdown",
   "id": "6ffc3af9-11ed-448c-86da-452830335f0d",
   "metadata": {},
   "source": [
    "Goal of this program:\n",
    "\n",
    "Input: a molecular data file, containing a system of two or more polymer chains, in an ASE-compatible format\n",
    "\n",
    "\n",
    "How to identify backbone atoms? \n",
    "separate chains and build connection matrices? \n",
    "\n",
    "Step: identify all backbone atoms\n",
    "      select all viable backbone atoms/positions for cross-linking\n",
    "      get positions of the selected atoms from above\n",
    "      define a bonding radius based on length of crosslinker molecule\n",
    "      crosslink loop until desired crosslinking density has been achieved (or until there are no more viable sites available - problem case)\n",
    "          randomly select a chain\n",
    "          randomly select a viable backbone atom from that chain\n",
    "          find all viable backbone atoms within bonding radius of the selected atom\n",
    "          randomly select one atom from list generated above\n",
    "          save pointers to these two atoms, remove them from list of available crosslinking sites\n",
    "\n",
    "Step: for all of the crosslinking sites, \n",
    "\n",
    "Output: a .mol2 file, containing a randomly cross-linked version of the original polymer system"
   ]
  },
  {
   "cell_type": "code",
   "execution_count": 1,
   "id": "39545959-49ed-4ab5-a0c0-fc1439cf7d60",
   "metadata": {},
   "outputs": [],
   "source": [
    "from ase import ase, io, neighborlist\n",
    "import scipy\n",
    "import numpy as np\n",
    "from scipy import sparse\n",
    "import pandas as pd"
   ]
  },
  {
   "cell_type": "code",
   "execution_count": 2,
   "id": "58edfb6e-3dde-4f8d-a65b-a53a46988fef",
   "metadata": {},
   "outputs": [],
   "source": [
    "mol = ase.io.read('pnipaam.test.pdb')"
   ]
  },
  {
   "cell_type": "code",
   "execution_count": 3,
   "id": "dc502f90-a72f-460d-b0ab-42c258833b0e",
   "metadata": {},
   "outputs": [],
   "source": [
    "cut = neighborlist.natural_cutoffs(mol)"
   ]
  },
  {
   "cell_type": "code",
   "execution_count": 4,
   "id": "9b3c7b4a-450e-4ad8-a15f-64840ed00423",
   "metadata": {},
   "outputs": [],
   "source": [
    "nl = neighborlist.NeighborList(cut, self_interaction=False, bothways=True)"
   ]
  },
  {
   "cell_type": "code",
   "execution_count": 5,
   "id": "35be672b-9c31-4ab8-941b-3d554388e611",
   "metadata": {},
   "outputs": [
    {
     "data": {
      "text/plain": [
       "True"
      ]
     },
     "execution_count": 5,
     "metadata": {},
     "output_type": "execute_result"
    }
   ],
   "source": [
    "nl.update(mol)"
   ]
  },
  {
   "cell_type": "code",
   "execution_count": 6,
   "id": "afdcb608-6059-4e79-aed2-df03d74c635e",
   "metadata": {},
   "outputs": [],
   "source": [
    "matrix = nl.get_connectivity_matrix()"
   ]
  },
  {
   "cell_type": "code",
   "execution_count": 7,
   "id": "fdd09b6c-6cf0-4c38-ba98-217820f3fee0",
   "metadata": {},
   "outputs": [],
   "source": [
    "n_components, component_list = sparse.csgraph.connected_components(matrix)"
   ]
  },
  {
   "cell_type": "code",
   "execution_count": 8,
   "id": "5ffd1464-fbf1-4d4a-b99d-1487c7721fd9",
   "metadata": {},
   "outputs": [],
   "source": [
    "molDict = {}\n",
    "for i in set(component_list):\n",
    "    molDict[i] = 0\n",
    "for atom in component_list:\n",
    "    molDict[atom] += 1"
   ]
  },
  {
   "cell_type": "code",
   "execution_count": 9,
   "id": "0eb48809-e0bc-4021-91bc-48f529b9124f",
   "metadata": {},
   "outputs": [],
   "source": [
    "for molIdx in set(component_list):\n",
    "    molDict[molIdx] = [ i for i in range(len(component_list)) if component_list[i] == molIdx ]"
   ]
  },
  {
   "cell_type": "code",
   "execution_count": 10,
   "id": "f434ef3b-4951-4961-bfbb-197ed8867931",
   "metadata": {},
   "outputs": [
    {
     "data": {
      "text/plain": [
       "8"
      ]
     },
     "execution_count": 10,
     "metadata": {},
     "output_type": "execute_result"
    }
   ],
   "source": [
    "# isolate polymer chains from solvent-polymer system\n",
    "chainDict = {}\n",
    "for molecule in molDict:\n",
    "    if len(molDict[molecule]) > 20:\n",
    "        chainDict[molecule] = molDict[molecule]\n",
    "len(chainDict)"
   ]
  },
  {
   "cell_type": "markdown",
   "id": "d300db3b-4fe3-4d43-9590-7de46792eb88",
   "metadata": {},
   "source": [
    "get matrix entries for each atom in the chains"
   ]
  },
  {
   "cell_type": "code",
   "execution_count": 13,
   "id": "d80444df-3171-4611-a9ff-3f12158e950b",
   "metadata": {},
   "outputs": [],
   "source": [
    "for i in chainDict:\n",
    "    for j,idx in enumerate(chainDict[i]):\n",
    "        chainDict[i][j] = (chainDict[i][j], matrix[idx])"
   ]
  },
  {
   "cell_type": "code",
   "execution_count": 17,
   "id": "9a4dbad2-e7b2-469f-9ae6-4f121bbed535",
   "metadata": {},
   "outputs": [
    {
     "data": {
      "text/plain": [
       "{'numbers': array([1, 6, 6, ..., 8, 1, 1]),\n",
       " 'positions': array([[34.844, 15.755, 17.225],\n",
       "        [34.997, 16.74 , 16.783],\n",
       "        [33.765, 17.683, 17.065],\n",
       "        ...,\n",
       "        [33.489, 34.81 , 35.648],\n",
       "        [34.282, 34.315, 35.44 ],\n",
       "        [33.783, 35.489, 36.255]]),\n",
       " 'residuenames': array(['RES ', 'RES ', 'RES ', ..., 'WAT ', 'WAT ', 'WAT '], dtype='<U4'),\n",
       " 'atomtypes': array(['H4', 'C1', 'C2', ..., 'O', 'H1', 'H2'], dtype='<U3'),\n",
       " 'residuenumbers': array([ 445,  889,  889, ..., 1549, 1549, 1549])}"
      ]
     },
     "execution_count": 17,
     "metadata": {},
     "output_type": "execute_result"
    }
   ],
   "source": [
    "data = mol.todict()\n",
    "data.pop('pbc')\n",
    "data.pop('cell')\n",
    "data.pop('bfactor')\n",
    "data"
   ]
  },
  {
   "cell_type": "code",
   "execution_count": 22,
   "id": "aab6da40-c50f-4575-baa8-8a3680edcd85",
   "metadata": {},
   "outputs": [
    {
     "name": "stdout",
     "output_type": "stream",
     "text": [
      "nice\n"
     ]
    }
   ],
   "source": [
    "backboneDict = {}\n",
    "atom, connections = chainDict[0][0]\n",
    "if data['atomtypes'][atom] in ['C1', 'C2']:\n",
    "    print('nice')"
   ]
  },
  {
   "cell_type": "markdown",
   "id": "711b3ca7-e469-40d7-9998-f9137a0db478",
   "metadata": {},
   "source": [
    "Get all backbone atoms (identified by atomtype here). Mark the ones that should be targeted for crosslinking (identifiable by their connections?). In actuality, arbitrary which one to target, as i'll be inserting an entire vinyl unit...?\n",
    "\n",
    "check configuration in https://pubs.rsc.org/en/content/articlelanding/2009/sm/b816443f/unauth#!divRelatedContent&articles\n"
   ]
  },
  {
   "cell_type": "code",
   "execution_count": 10,
   "id": "55699eba-1647-4e73-8ca8-749f13e48ec3",
   "metadata": {},
   "outputs": [
    {
     "data": {
      "text/plain": [
       "array([   0,    0,    0, ..., 1075, 1075, 1075], dtype=int32)"
      ]
     },
     "execution_count": 10,
     "metadata": {},
     "output_type": "execute_result"
    }
   ],
   "source": [
    "component_list"
   ]
  },
  {
   "cell_type": "code",
   "execution_count": 11,
   "id": "13e2f8c4-1f92-43cc-8ed3-945e009b58a2",
   "metadata": {},
   "outputs": [],
   "source": [
    "molIdxs = [ i for i in range(len(component_list)) if component_list[i] == molIdx ]"
   ]
  },
  {
   "cell_type": "code",
   "execution_count": 12,
   "id": "e7ef8dee-8264-4693-923f-69b8a97caea6",
   "metadata": {},
   "outputs": [
    {
     "data": {
      "text/plain": [
       "1076"
      ]
     },
     "execution_count": 12,
     "metadata": {},
     "output_type": "execute_result"
    }
   ],
   "source": [
    "len(molDict)"
   ]
  },
  {
   "cell_type": "code",
   "execution_count": 14,
   "id": "5d66cc6d-f6a7-40c9-8172-cfda3eae9723",
   "metadata": {},
   "outputs": [
    {
     "name": "stdout",
     "output_type": "stream",
     "text": [
      "306 0\n",
      "306 1\n",
      "306 2\n",
      "306 3\n",
      "306 4\n",
      "306 5\n",
      "306 6\n",
      "306 7\n"
     ]
    }
   ],
   "source": [
    "for molecule in molDict:\n",
    "    if len(molDict[molecule]) > 10:\n",
    "        print(len(molDict[molecule]), molecule)"
   ]
  },
  {
   "cell_type": "code",
   "execution_count": 18,
   "id": "56e4c660-644b-496a-8c02-e5046400fd24",
   "metadata": {},
   "outputs": [],
   "source": [
    "mol = ase.io.read('pnipaam.test.pdb')"
   ]
  },
  {
   "cell_type": "code",
   "execution_count": 19,
   "id": "2de752d1-7a59-496b-92d4-b1bcf483db57",
   "metadata": {},
   "outputs": [],
   "source": [
    "chain0 = ase.Atoms([mol[i] for i in chainDict[0]])"
   ]
  },
  {
   "cell_type": "code",
   "execution_count": 20,
   "id": "92cb507c-fd6e-4e03-bfc4-145e95720c8e",
   "metadata": {},
   "outputs": [],
   "source": [
    "atoms = [i.index for i in mol]"
   ]
  },
  {
   "cell_type": "code",
   "execution_count": 22,
   "id": "2b4b8466-8ad4-47ed-9e72-54c534319d13",
   "metadata": {},
   "outputs": [
    {
     "data": {
      "text/plain": [
       "5787"
      ]
     },
     "execution_count": 22,
     "metadata": {},
     "output_type": "execute_result"
    }
   ],
   "source": [
    "len(data['atomtypes'])"
   ]
  },
  {
   "cell_type": "code",
   "execution_count": 23,
   "id": "ad351642-d917-4e89-abad-022a793e638a",
   "metadata": {},
   "outputs": [
    {
     "data": {
      "text/plain": [
       "array([[34.844, 15.755, 17.225],\n",
       "       [34.997, 16.74 , 16.783],\n",
       "       [33.765, 17.683, 17.065],\n",
       "       ...,\n",
       "       [33.489, 34.81 , 35.648],\n",
       "       [34.282, 34.315, 35.44 ],\n",
       "       [33.783, 35.489, 36.255]])"
      ]
     },
     "execution_count": 23,
     "metadata": {},
     "output_type": "execute_result"
    }
   ],
   "source": [
    "data['positions']"
   ]
  },
  {
   "cell_type": "code",
   "execution_count": 24,
   "id": "36b0c40c-ac2f-4579-b842-fdedc44df8ad",
   "metadata": {},
   "outputs": [
    {
     "name": "stderr",
     "output_type": "stream",
     "text": [
      "/home/robert/miniconda3/envs/atlas-env/lib/python3.7/site-packages/ipykernel_launcher.py:9: SettingWithCopyWarning: \n",
      "A value is trying to be set on a copy of a slice from a DataFrame.\n",
      "Try using .loc[row_indexer,col_indexer] = value instead\n",
      "\n",
      "See the caveats in the documentation: https://pandas.pydata.org/pandas-docs/stable/user_guide/indexing.html#returning-a-view-versus-a-copy\n",
      "  if __name__ == '__main__':\n"
     ]
    },
    {
     "data": {
      "text/html": [
       "<div>\n",
       "<style scoped>\n",
       "    .dataframe tbody tr th:only-of-type {\n",
       "        vertical-align: middle;\n",
       "    }\n",
       "\n",
       "    .dataframe tbody tr th {\n",
       "        vertical-align: top;\n",
       "    }\n",
       "\n",
       "    .dataframe thead th {\n",
       "        text-align: right;\n",
       "    }\n",
       "</style>\n",
       "<table border=\"1\" class=\"dataframe\">\n",
       "  <thead>\n",
       "    <tr style=\"text-align: right;\">\n",
       "      <th></th>\n",
       "      <th>x_pos</th>\n",
       "      <th>y_pos</th>\n",
       "      <th>z_pos</th>\n",
       "      <th>molecule</th>\n",
       "      <th>res_name</th>\n",
       "      <th>atomic_number</th>\n",
       "      <th>atom_type</th>\n",
       "      <th>n_bonds</th>\n",
       "    </tr>\n",
       "  </thead>\n",
       "  <tbody>\n",
       "    <tr>\n",
       "      <th>0</th>\n",
       "      <td>34.844</td>\n",
       "      <td>15.755</td>\n",
       "      <td>17.225</td>\n",
       "      <td>0</td>\n",
       "      <td>RES</td>\n",
       "      <td>1</td>\n",
       "      <td>H4</td>\n",
       "      <td>1</td>\n",
       "    </tr>\n",
       "    <tr>\n",
       "      <th>1</th>\n",
       "      <td>34.997</td>\n",
       "      <td>16.740</td>\n",
       "      <td>16.783</td>\n",
       "      <td>0</td>\n",
       "      <td>RES</td>\n",
       "      <td>6</td>\n",
       "      <td>C1</td>\n",
       "      <td>4</td>\n",
       "    </tr>\n",
       "    <tr>\n",
       "      <th>2</th>\n",
       "      <td>33.765</td>\n",
       "      <td>17.683</td>\n",
       "      <td>17.065</td>\n",
       "      <td>0</td>\n",
       "      <td>RES</td>\n",
       "      <td>6</td>\n",
       "      <td>C2</td>\n",
       "      <td>4</td>\n",
       "    </tr>\n",
       "    <tr>\n",
       "      <th>3</th>\n",
       "      <td>35.127</td>\n",
       "      <td>16.630</td>\n",
       "      <td>15.707</td>\n",
       "      <td>0</td>\n",
       "      <td>RES</td>\n",
       "      <td>1</td>\n",
       "      <td>H3</td>\n",
       "      <td>1</td>\n",
       "    </tr>\n",
       "    <tr>\n",
       "      <th>4</th>\n",
       "      <td>35.894</td>\n",
       "      <td>17.095</td>\n",
       "      <td>17.292</td>\n",
       "      <td>0</td>\n",
       "      <td>RES</td>\n",
       "      <td>1</td>\n",
       "      <td>H5</td>\n",
       "      <td>1</td>\n",
       "    </tr>\n",
       "    <tr>\n",
       "      <th>...</th>\n",
       "      <td>...</td>\n",
       "      <td>...</td>\n",
       "      <td>...</td>\n",
       "      <td>...</td>\n",
       "      <td>...</td>\n",
       "      <td>...</td>\n",
       "      <td>...</td>\n",
       "      <td>...</td>\n",
       "    </tr>\n",
       "    <tr>\n",
       "      <th>2443</th>\n",
       "      <td>23.777</td>\n",
       "      <td>37.110</td>\n",
       "      <td>-0.051</td>\n",
       "      <td>7</td>\n",
       "      <td>RES</td>\n",
       "      <td>1</td>\n",
       "      <td>H18</td>\n",
       "      <td>1</td>\n",
       "    </tr>\n",
       "    <tr>\n",
       "      <th>2444</th>\n",
       "      <td>24.339</td>\n",
       "      <td>35.981</td>\n",
       "      <td>-2.157</td>\n",
       "      <td>7</td>\n",
       "      <td>RES</td>\n",
       "      <td>1</td>\n",
       "      <td>H19</td>\n",
       "      <td>1</td>\n",
       "    </tr>\n",
       "    <tr>\n",
       "      <th>2445</th>\n",
       "      <td>24.602</td>\n",
       "      <td>34.831</td>\n",
       "      <td>-0.841</td>\n",
       "      <td>7</td>\n",
       "      <td>RES</td>\n",
       "      <td>1</td>\n",
       "      <td>H20</td>\n",
       "      <td>1</td>\n",
       "    </tr>\n",
       "    <tr>\n",
       "      <th>2446</th>\n",
       "      <td>25.974</td>\n",
       "      <td>35.651</td>\n",
       "      <td>-1.608</td>\n",
       "      <td>7</td>\n",
       "      <td>RES</td>\n",
       "      <td>1</td>\n",
       "      <td>H21</td>\n",
       "      <td>1</td>\n",
       "    </tr>\n",
       "    <tr>\n",
       "      <th>2447</th>\n",
       "      <td>25.979</td>\n",
       "      <td>34.083</td>\n",
       "      <td>2.517</td>\n",
       "      <td>7</td>\n",
       "      <td>RES</td>\n",
       "      <td>1</td>\n",
       "      <td>H7</td>\n",
       "      <td>1</td>\n",
       "    </tr>\n",
       "  </tbody>\n",
       "</table>\n",
       "<p>2448 rows × 8 columns</p>\n",
       "</div>"
      ],
      "text/plain": [
       "       x_pos   y_pos   z_pos  molecule res_name  atomic_number atom_type  \\\n",
       "0     34.844  15.755  17.225         0     RES               1        H4   \n",
       "1     34.997  16.740  16.783         0     RES               6        C1   \n",
       "2     33.765  17.683  17.065         0     RES               6        C2   \n",
       "3     35.127  16.630  15.707         0     RES               1        H3   \n",
       "4     35.894  17.095  17.292         0     RES               1        H5   \n",
       "...      ...     ...     ...       ...      ...            ...       ...   \n",
       "2443  23.777  37.110  -0.051         7     RES               1       H18   \n",
       "2444  24.339  35.981  -2.157         7     RES               1       H19   \n",
       "2445  24.602  34.831  -0.841         7     RES               1       H20   \n",
       "2446  25.974  35.651  -1.608         7     RES               1       H21   \n",
       "2447  25.979  34.083   2.517         7     RES               1        H7   \n",
       "\n",
       "      n_bonds  \n",
       "0           1  \n",
       "1           4  \n",
       "2           4  \n",
       "3           1  \n",
       "4           1  \n",
       "...       ...  \n",
       "2443        1  \n",
       "2444        1  \n",
       "2445        1  \n",
       "2446        1  \n",
       "2447        1  \n",
       "\n",
       "[2448 rows x 8 columns]"
      ]
     },
     "execution_count": 24,
     "metadata": {},
     "output_type": "execute_result"
    }
   ],
   "source": [
    "mol_df = pd.DataFrame(data['positions'])\n",
    "mol_df = mol_df.rename({0: \"x_pos\", 1: \"y_pos\", 2: \"z_pos\"}, axis=1)\n",
    "mol_df['molecule'] = component_list\n",
    "mol_df['res_name'] = data['residuenames']\n",
    "mol_df['atomic_number'] = data['numbers']\n",
    "mol_df['atom_type'] = data['atomtypes']\n",
    "chain_df = mol_df[mol_df['res_name'] != \"WAT \"]\n",
    "# compute number of connections to each molecule\n",
    "chain_df['n_bonds'] = [matrix[i].sum() for i in chain_df.index]\n",
    "chain_df"
   ]
  },
  {
   "cell_type": "code",
   "execution_count": 25,
   "id": "2eab9b15-36ed-445c-8a3d-3798dab05924",
   "metadata": {},
   "outputs": [
    {
     "data": {
      "text/plain": [
       "{'C1',\n",
       " 'C11',\n",
       " 'C13',\n",
       " 'C17',\n",
       " 'C2',\n",
       " 'C6',\n",
       " 'H12',\n",
       " 'H14',\n",
       " 'H15',\n",
       " 'H16',\n",
       " 'H18',\n",
       " 'H19',\n",
       " 'H20',\n",
       " 'H21',\n",
       " 'H3',\n",
       " 'H4',\n",
       " 'H5',\n",
       " 'H7',\n",
       " 'H8',\n",
       " 'N10',\n",
       " 'O9'}"
      ]
     },
     "execution_count": 25,
     "metadata": {},
     "output_type": "execute_result"
    }
   ],
   "source": [
    "set(chain_df['atom_type'])"
   ]
  },
  {
   "cell_type": "code",
   "execution_count": 26,
   "id": "204f3a89-022d-4c4e-a6ea-d77d51705272",
   "metadata": {},
   "outputs": [
    {
     "data": {
      "text/html": [
       "<div>\n",
       "<style scoped>\n",
       "    .dataframe tbody tr th:only-of-type {\n",
       "        vertical-align: middle;\n",
       "    }\n",
       "\n",
       "    .dataframe tbody tr th {\n",
       "        vertical-align: top;\n",
       "    }\n",
       "\n",
       "    .dataframe thead th {\n",
       "        text-align: right;\n",
       "    }\n",
       "</style>\n",
       "<table border=\"1\" class=\"dataframe\">\n",
       "  <thead>\n",
       "    <tr style=\"text-align: right;\">\n",
       "      <th></th>\n",
       "      <th>x_pos</th>\n",
       "      <th>y_pos</th>\n",
       "      <th>z_pos</th>\n",
       "      <th>molecule</th>\n",
       "      <th>res_name</th>\n",
       "      <th>atomic_number</th>\n",
       "      <th>atom_type</th>\n",
       "      <th>n_bonds</th>\n",
       "    </tr>\n",
       "  </thead>\n",
       "  <tbody>\n",
       "    <tr>\n",
       "      <th>1</th>\n",
       "      <td>34.997</td>\n",
       "      <td>16.740</td>\n",
       "      <td>16.783</td>\n",
       "      <td>0</td>\n",
       "      <td>RES</td>\n",
       "      <td>6</td>\n",
       "      <td>C1</td>\n",
       "      <td>4</td>\n",
       "    </tr>\n",
       "    <tr>\n",
       "      <th>20</th>\n",
       "      <td>34.226</td>\n",
       "      <td>19.135</td>\n",
       "      <td>17.020</td>\n",
       "      <td>0</td>\n",
       "      <td>RES</td>\n",
       "      <td>6</td>\n",
       "      <td>C1</td>\n",
       "      <td>4</td>\n",
       "    </tr>\n",
       "    <tr>\n",
       "      <th>39</th>\n",
       "      <td>35.933</td>\n",
       "      <td>20.746</td>\n",
       "      <td>18.178</td>\n",
       "      <td>0</td>\n",
       "      <td>RES</td>\n",
       "      <td>6</td>\n",
       "      <td>C1</td>\n",
       "      <td>4</td>\n",
       "    </tr>\n",
       "    <tr>\n",
       "      <th>58</th>\n",
       "      <td>38.277</td>\n",
       "      <td>21.750</td>\n",
       "      <td>18.299</td>\n",
       "      <td>0</td>\n",
       "      <td>RES</td>\n",
       "      <td>6</td>\n",
       "      <td>C1</td>\n",
       "      <td>4</td>\n",
       "    </tr>\n",
       "    <tr>\n",
       "      <th>77</th>\n",
       "      <td>39.235</td>\n",
       "      <td>20.927</td>\n",
       "      <td>15.936</td>\n",
       "      <td>0</td>\n",
       "      <td>RES</td>\n",
       "      <td>6</td>\n",
       "      <td>C1</td>\n",
       "      <td>4</td>\n",
       "    </tr>\n",
       "    <tr>\n",
       "      <th>...</th>\n",
       "      <td>...</td>\n",
       "      <td>...</td>\n",
       "      <td>...</td>\n",
       "      <td>...</td>\n",
       "      <td>...</td>\n",
       "      <td>...</td>\n",
       "      <td>...</td>\n",
       "      <td>...</td>\n",
       "    </tr>\n",
       "    <tr>\n",
       "      <th>2352</th>\n",
       "      <td>20.968</td>\n",
       "      <td>34.424</td>\n",
       "      <td>10.386</td>\n",
       "      <td>7</td>\n",
       "      <td>RES</td>\n",
       "      <td>6</td>\n",
       "      <td>C1</td>\n",
       "      <td>4</td>\n",
       "    </tr>\n",
       "    <tr>\n",
       "      <th>2371</th>\n",
       "      <td>23.419</td>\n",
       "      <td>35.262</td>\n",
       "      <td>10.716</td>\n",
       "      <td>7</td>\n",
       "      <td>RES</td>\n",
       "      <td>6</td>\n",
       "      <td>C1</td>\n",
       "      <td>4</td>\n",
       "    </tr>\n",
       "    <tr>\n",
       "      <th>2390</th>\n",
       "      <td>23.673</td>\n",
       "      <td>33.980</td>\n",
       "      <td>8.366</td>\n",
       "      <td>7</td>\n",
       "      <td>RES</td>\n",
       "      <td>6</td>\n",
       "      <td>C1</td>\n",
       "      <td>4</td>\n",
       "    </tr>\n",
       "    <tr>\n",
       "      <th>2409</th>\n",
       "      <td>25.573</td>\n",
       "      <td>34.736</td>\n",
       "      <td>6.770</td>\n",
       "      <td>7</td>\n",
       "      <td>RES</td>\n",
       "      <td>6</td>\n",
       "      <td>C1</td>\n",
       "      <td>4</td>\n",
       "    </tr>\n",
       "    <tr>\n",
       "      <th>2428</th>\n",
       "      <td>25.296</td>\n",
       "      <td>35.248</td>\n",
       "      <td>4.272</td>\n",
       "      <td>7</td>\n",
       "      <td>RES</td>\n",
       "      <td>6</td>\n",
       "      <td>C1</td>\n",
       "      <td>4</td>\n",
       "    </tr>\n",
       "  </tbody>\n",
       "</table>\n",
       "<p>128 rows × 8 columns</p>\n",
       "</div>"
      ],
      "text/plain": [
       "       x_pos   y_pos   z_pos  molecule res_name  atomic_number atom_type  \\\n",
       "1     34.997  16.740  16.783         0     RES               6        C1   \n",
       "20    34.226  19.135  17.020         0     RES               6        C1   \n",
       "39    35.933  20.746  18.178         0     RES               6        C1   \n",
       "58    38.277  21.750  18.299         0     RES               6        C1   \n",
       "77    39.235  20.927  15.936         0     RES               6        C1   \n",
       "...      ...     ...     ...       ...      ...            ...       ...   \n",
       "2352  20.968  34.424  10.386         7     RES               6        C1   \n",
       "2371  23.419  35.262  10.716         7     RES               6        C1   \n",
       "2390  23.673  33.980   8.366         7     RES               6        C1   \n",
       "2409  25.573  34.736   6.770         7     RES               6        C1   \n",
       "2428  25.296  35.248   4.272         7     RES               6        C1   \n",
       "\n",
       "      n_bonds  \n",
       "1           4  \n",
       "20          4  \n",
       "39          4  \n",
       "58          4  \n",
       "77          4  \n",
       "...       ...  \n",
       "2352        4  \n",
       "2371        4  \n",
       "2390        4  \n",
       "2409        4  \n",
       "2428        4  \n",
       "\n",
       "[128 rows x 8 columns]"
      ]
     },
     "execution_count": 26,
     "metadata": {},
     "output_type": "execute_result"
    }
   ],
   "source": [
    "chain_df[chain_df['atom_type'] == \"C1\"]"
   ]
  },
  {
   "cell_type": "code",
   "execution_count": 27,
   "id": "53a79a48-d223-4e5b-b8d5-faa7259c6085",
   "metadata": {},
   "outputs": [
    {
     "ename": "NameError",
     "evalue": "name 'm' is not defined",
     "output_type": "error",
     "traceback": [
      "\u001b[0;31m---------------------------------------------------------------------------\u001b[0m",
      "\u001b[0;31mNameError\u001b[0m                                 Traceback (most recent call last)",
      "\u001b[0;32m<ipython-input-27-bcaa6914939c>\u001b[0m in \u001b[0;36m<module>\u001b[0;34m\u001b[0m\n\u001b[0;32m----> 1\u001b[0;31m \u001b[0mmol_df\u001b[0m \u001b[0;34m=\u001b[0m \u001b[0mpd\u001b[0m\u001b[0;34m.\u001b[0m\u001b[0mDataFrame\u001b[0m\u001b[0;34m(\u001b[0m\u001b[0mm\u001b[0m\u001b[0;34m)\u001b[0m\u001b[0;34m\u001b[0m\u001b[0;34m\u001b[0m\u001b[0m\n\u001b[0m\u001b[1;32m      2\u001b[0m \u001b[0mmol_df\u001b[0m\u001b[0;34m\u001b[0m\u001b[0;34m\u001b[0m\u001b[0m\n",
      "\u001b[0;31mNameError\u001b[0m: name 'm' is not defined"
     ]
    }
   ],
   "source": [
    "mol_df = pd.DataFrame(m)\n",
    "mol_df"
   ]
  },
  {
   "cell_type": "code",
   "execution_count": null,
   "id": "fa53a9af-ec44-457b-8437-220a957c1d84",
   "metadata": {},
   "outputs": [],
   "source": [
    "chainDict"
   ]
  },
  {
   "cell_type": "code",
   "execution_count": null,
   "id": "8117b664-22c1-47bf-a77e-2e2bf1f2ac78",
   "metadata": {},
   "outputs": [],
   "source": [
    "matrix[0].count_nonzero()"
   ]
  },
  {
   "cell_type": "code",
   "execution_count": null,
   "id": "1bafebee-9452-491f-8c77-a5433532d02a",
   "metadata": {},
   "outputs": [],
   "source": [
    "matrix[0].keys()"
   ]
  },
  {
   "cell_type": "code",
   "execution_count": null,
   "id": "997c7e16-e716-44c6-909a-0ae9708d8e8f",
   "metadata": {},
   "outputs": [],
   "source": [
    "matrix[1].keys()"
   ]
  },
  {
   "cell_type": "code",
   "execution_count": null,
   "id": "7cb66fe4-a736-4819-956c-360a508406e6",
   "metadata": {},
   "outputs": [],
   "source": [
    "matrix[310].keys()"
   ]
  },
  {
   "cell_type": "code",
   "execution_count": null,
   "id": "c4852cc1-44f0-410b-b963-f22e501f6aa0",
   "metadata": {},
   "outputs": [],
   "source": [
    "mol"
   ]
  },
  {
   "cell_type": "code",
   "execution_count": null,
   "id": "fc96d5cc-05bb-4cd2-b69c-bf1fbcb2d3ce",
   "metadata": {},
   "outputs": [],
   "source": [
    "mol[0]"
   ]
  },
  {
   "cell_type": "code",
   "execution_count": null,
   "id": "aa963a3c-4ca5-4b51-8d0e-097aff7dc8a6",
   "metadata": {},
   "outputs": [],
   "source": []
  }
 ],
 "metadata": {
  "kernelspec": {
   "display_name": "Python 3",
   "language": "python",
   "name": "python3"
  },
  "language_info": {
   "codemirror_mode": {
    "name": "ipython",
    "version": 3
   },
   "file_extension": ".py",
   "mimetype": "text/x-python",
   "name": "python",
   "nbconvert_exporter": "python",
   "pygments_lexer": "ipython3",
   "version": "3.7.10"
  }
 },
 "nbformat": 4,
 "nbformat_minor": 5
}
